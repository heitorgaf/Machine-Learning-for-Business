{
 "cells": [
  {
   "cell_type": "markdown",
   "id": "26d24898",
   "metadata": {},
   "source": [
    "# Module Title:\t Machine Learning for Business  \n",
    "### Assessment Title:  MLBus_HDipData_CA1\n",
    "### Lecturer Name:\t Dr. Muhammad Iqba  \n",
    "### Student Full Name & Number:\tNatalia de Oliveira Rodrigues 2023112 and Heitor Gomes de Araujo Filho 2023098"
   ]
  },
  {
   "cell_type": "markdown",
   "id": "b8674790",
   "metadata": {},
   "source": [
    "This CA will assess student attainment of the following minimum intended learning outcomes:\n",
    "\n",
    "1. Critically evaluate and implement appropriate clustering algorithms and interpret and document \n",
    "their results. (Linked to PLO 1, PLO 5)\n",
    "2. Apply modelling to time series data to facilitate business intelligence needs (Linked to PLO 1, PLO 2, \n",
    "PLO 3"
   ]
  },
  {
   "cell_type": "markdown",
   "id": "6bba4e7a",
   "metadata": {},
   "source": [
    "**Project Objective:** \n",
    "Perform time series analysis on the historical plane crash data and use clustering techniques to identify patterns and clusters of crash incidents over time. \n",
    "\n",
    "1. **Temporal Patterns Analysis:** How the frequency of plane crashes has evolved over the years. Are there any long-term trends or seasonal patterns in crash occurrences?\n",
    "\n",
    "2. **Clustering of Crash Incidents:** Identify commonalities among different incidents using clustering algorithms to group similar plane crashes based on characteristics such as crash causes, flight phases, and other relevant factors. \n",
    "\n",
    "3. **Visualization of Clustered Data:** How certain types of crashes have become more or less prevalent over the years?(identified clusters over time)\n",
    "\n",
    "4. **Anomaly Detection:** These could be extreme or unusual crash incidents that deviate from the typical patterns.\n",
    "\n",
    "5. **Forecasting:** Predict the future trend of plane crashes based on historical data using time series forecasting models. (valuable tool for aviation safety assessment)\n",
    "\n",
    "6. **Interpreting Cluster Characteristics:**  Are there specific conditions or causes that lead to certain types of accidents? Investigate the characteristics and factors that contribute for each cluster of crashes formation.\n",
    "\n",
    "7. **Evaluation of Clustering Methods:** Compare and evaluate different clustering algorithms to determine which one provides the most meaningful insights into the dataset.\n",
    "\n",
    "**Aims:** \n",
    "- Deeper understanding of the historical plane crash data, \n",
    "- Identify recurring patterns, \n",
    "- Potentially discover factors that contribute to certain types of accidents. "
   ]
  },
  {
   "cell_type": "markdown",
   "id": "b3c615fb",
   "metadata": {},
   "source": [
    "# Exploratory Data Analysis"
   ]
  },
  {
   "cell_type": "code",
   "execution_count": 1,
   "id": "b776fa73",
   "metadata": {},
   "outputs": [],
   "source": [
    "# import the libraries\n",
    "import pandas as pd\n",
    "import numpy as np\n",
    "import matplotlib.pyplot as plt\n",
    "%matplotlib inline\n",
    "import seaborn as sns\n",
    "\n",
    "from sklearn.preprocessing import scale, StandardScaler, MinMaxScaler"
   ]
  },
  {
   "cell_type": "code",
   "execution_count": 2,
   "id": "4f0d5195",
   "metadata": {},
   "outputs": [],
   "source": [
    "import warnings\n",
    "warnings.filterwarnings('ignore')"
   ]
  },
  {
   "cell_type": "code",
   "execution_count": 3,
   "id": "c0802145",
   "metadata": {},
   "outputs": [],
   "source": [
    "df = pd.read_csv('Plane Crashes.csv')"
   ]
  },
  {
   "cell_type": "code",
   "execution_count": 4,
   "id": "b2bc40eb",
   "metadata": {},
   "outputs": [],
   "source": [
    "# To convert date to datetime\n",
    "df['Date'] = pd.to_datetime(df['Date'])"
   ]
  },
  {
   "cell_type": "code",
   "execution_count": 5,
   "id": "cdba8204",
   "metadata": {
    "scrolled": false
   },
   "outputs": [],
   "source": [
    "def glimpse(df):\n",
    "    display(f'There are {df.shape[0]} observations and {df.shape[1]} attributes in this dataset.')\n",
    "    print(\"-\" * 120)\n",
    "    display(df.head(3))\n",
    "    print(\"-\" * 120)\n",
    "    display(df.tail(3))\n",
    "    print(\"-\" * 120)\n",
    "    display(df.describe())\n",
    "    print(\"-\" * 120)\n",
    "    display(df.info())\n",
    "    print(\"-\" * 120)\n",
    "    display(df.isnull().sum().sort_values(ascending=False))\n",
    "    \n",
    "#glimpse(df)"
   ]
  },
  {
   "cell_type": "markdown",
   "id": "a3d48e2d",
   "metadata": {},
   "source": [
    "# Data Preprocessing \n",
    "Data preprocessing primarily focuses on cleaning, transforming, and preparing raw data for immediate analysis or modeling. Data preprocessing involves tasks such as handling missing data, dealing with outliers, scaling features, encoding categorical variables, and ensuring data is ready for analysis or model training. \n"
   ]
  },
  {
   "cell_type": "markdown",
   "id": "bfe669ff",
   "metadata": {},
   "source": [
    "### Data Preprocessing: Preparing raw data for immediate analysis"
   ]
  },
  {
   "cell_type": "code",
   "execution_count": 6,
   "id": "527728a9",
   "metadata": {},
   "outputs": [],
   "source": [
    "# This will convert columns dtype\n",
    "columns_to_convert = ['YOM', 'Crew on board', 'Crew fatalities', 'Pax on board', 'PAX fatalities', \n",
    "                      'Other fatalities', 'Total fatalities']\n",
    "\n",
    "for column in columns_to_convert:\n",
    "    df[column] = pd.to_numeric(df[column], errors='coerce').astype('Int64')"
   ]
  },
  {
   "cell_type": "code",
   "execution_count": 8,
   "id": "041ac71b",
   "metadata": {},
   "outputs": [],
   "source": [
    "# This select recent data the past 10 Years \n",
    "# Allow us to capture contemporary trends and patterns.\n",
    "df = df[df['Date'] > '31-05-2012']"
   ]
  },
  {
   "cell_type": "code",
   "execution_count": 9,
   "id": "8b7260b2",
   "metadata": {},
   "outputs": [],
   "source": [
    "# Attach your own 'Data' index to the dataframe\n",
    "df.index = df['Date']\n",
    "\n",
    "# Drop the 'Date' column from the dataframe\n",
    "df.drop('Date', axis = 1, inplace = True)"
   ]
  },
  {
   "cell_type": "markdown",
   "id": "37925a43",
   "metadata": {},
   "source": [
    "### Data Preprocessing: Handling missing data"
   ]
  },
  {
   "cell_type": "code",
   "execution_count": null,
   "id": "30172afb",
   "metadata": {},
   "outputs": [],
   "source": [
    "# This removes the attributes with high missing data values, and attributes without variance(unique identifiers). \n",
    "df = df.drop(columns=[\"Flight no.\", \"Time\", 'MSN','Registration'])"
   ]
  },
  {
   "cell_type": "code",
   "execution_count": 11,
   "id": "5a9350c0",
   "metadata": {},
   "outputs": [],
   "source": [
    "# This removes all rows with any missing values - Less than 2% of the data will be dropped\n",
    "df.dropna(inplace=True) "
   ]
  },
  {
   "cell_type": "code",
   "execution_count": 10,
   "id": "62cb7b0e",
   "metadata": {},
   "outputs": [
    {
     "data": {
      "text/plain": [
       "Schedule            140\n",
       "YOM                  51\n",
       "Flight type           4\n",
       "Survivors             2\n",
       "Flight phase          1\n",
       "Aircraft              0\n",
       "Crew fatalities       0\n",
       "Circumstances         0\n",
       "Total fatalities      0\n",
       "Other fatalities      0\n",
       "PAX fatalities        0\n",
       "Pax on board          0\n",
       "Country               0\n",
       "Crew on board         0\n",
       "Region                0\n",
       "Operator              0\n",
       "Crash location        0\n",
       "Crash site            0\n",
       "Crash cause           0\n",
       "dtype: int64"
      ]
     },
     "execution_count": 10,
     "metadata": {},
     "output_type": "execute_result"
    }
   ],
   "source": [
    "df.isnull().sum().sort_values(ascending=False)"
   ]
  },
  {
   "cell_type": "markdown",
   "id": "3e1ce8ac",
   "metadata": {},
   "source": [
    "### Data Preprocessing: Investigating categorical variables"
   ]
  },
  {
   "cell_type": "code",
   "execution_count": 13,
   "id": "fed7845f",
   "metadata": {},
   "outputs": [
    {
     "data": {
      "text/html": [
       "<div>\n",
       "<style scoped>\n",
       "    .dataframe tbody tr th:only-of-type {\n",
       "        vertical-align: middle;\n",
       "    }\n",
       "\n",
       "    .dataframe tbody tr th {\n",
       "        vertical-align: top;\n",
       "    }\n",
       "\n",
       "    .dataframe thead th {\n",
       "        text-align: right;\n",
       "    }\n",
       "</style>\n",
       "<table border=\"1\" class=\"dataframe\">\n",
       "  <thead>\n",
       "    <tr style=\"text-align: right;\">\n",
       "      <th></th>\n",
       "      <th>count</th>\n",
       "      <th>unique</th>\n",
       "      <th>top</th>\n",
       "      <th>freq</th>\n",
       "    </tr>\n",
       "  </thead>\n",
       "  <tbody>\n",
       "    <tr>\n",
       "      <th>Aircraft</th>\n",
       "      <td>1277</td>\n",
       "      <td>244</td>\n",
       "      <td>Cessna 208B Grand Caravan</td>\n",
       "      <td>63</td>\n",
       "    </tr>\n",
       "    <tr>\n",
       "      <th>Operator</th>\n",
       "      <td>1277</td>\n",
       "      <td>1060</td>\n",
       "      <td>Private American</td>\n",
       "      <td>14</td>\n",
       "    </tr>\n",
       "    <tr>\n",
       "      <th>Flight phase</th>\n",
       "      <td>1277</td>\n",
       "      <td>5</td>\n",
       "      <td>Landing (descent or approach)</td>\n",
       "      <td>617</td>\n",
       "    </tr>\n",
       "    <tr>\n",
       "      <th>Flight type</th>\n",
       "      <td>1277</td>\n",
       "      <td>27</td>\n",
       "      <td>Private</td>\n",
       "      <td>298</td>\n",
       "    </tr>\n",
       "    <tr>\n",
       "      <th>Survivors</th>\n",
       "      <td>1277</td>\n",
       "      <td>2</td>\n",
       "      <td>Yes</td>\n",
       "      <td>758</td>\n",
       "    </tr>\n",
       "    <tr>\n",
       "      <th>Crash site</th>\n",
       "      <td>1277</td>\n",
       "      <td>6</td>\n",
       "      <td>Airport (less than 10 km from airport)</td>\n",
       "      <td>744</td>\n",
       "    </tr>\n",
       "    <tr>\n",
       "      <th>Schedule</th>\n",
       "      <td>1277</td>\n",
       "      <td>1245</td>\n",
       "      <td>Ketchikan - Ketchikan</td>\n",
       "      <td>4</td>\n",
       "    </tr>\n",
       "    <tr>\n",
       "      <th>Crash location</th>\n",
       "      <td>1277</td>\n",
       "      <td>1139</td>\n",
       "      <td>Wamena Special Region of Papua</td>\n",
       "      <td>7</td>\n",
       "    </tr>\n",
       "    <tr>\n",
       "      <th>Country</th>\n",
       "      <td>1277</td>\n",
       "      <td>129</td>\n",
       "      <td>United States of America</td>\n",
       "      <td>384</td>\n",
       "    </tr>\n",
       "    <tr>\n",
       "      <th>Region</th>\n",
       "      <td>1277</td>\n",
       "      <td>9</td>\n",
       "      <td>North America</td>\n",
       "      <td>445</td>\n",
       "    </tr>\n",
       "    <tr>\n",
       "      <th>Circumstances</th>\n",
       "      <td>1277</td>\n",
       "      <td>1276</td>\n",
       "      <td>On May 13, 2019, about 1221 Alaska daylight ti...</td>\n",
       "      <td>2</td>\n",
       "    </tr>\n",
       "    <tr>\n",
       "      <th>Crash cause</th>\n",
       "      <td>1277</td>\n",
       "      <td>6</td>\n",
       "      <td>Human factor</td>\n",
       "      <td>600</td>\n",
       "    </tr>\n",
       "  </tbody>\n",
       "</table>\n",
       "</div>"
      ],
      "text/plain": [
       "               count unique  \\\n",
       "Aircraft        1277    244   \n",
       "Operator        1277   1060   \n",
       "Flight phase    1277      5   \n",
       "Flight type     1277     27   \n",
       "Survivors       1277      2   \n",
       "Crash site      1277      6   \n",
       "Schedule        1277   1245   \n",
       "Crash location  1277   1139   \n",
       "Country         1277    129   \n",
       "Region          1277      9   \n",
       "Circumstances   1277   1276   \n",
       "Crash cause     1277      6   \n",
       "\n",
       "                                                              top freq  \n",
       "Aircraft                                Cessna 208B Grand Caravan   63  \n",
       "Operator                                         Private American   14  \n",
       "Flight phase                        Landing (descent or approach)  617  \n",
       "Flight type                                               Private  298  \n",
       "Survivors                                                     Yes  758  \n",
       "Crash site                 Airport (less than 10 km from airport)  744  \n",
       "Schedule                                    Ketchikan - Ketchikan    4  \n",
       "Crash location                     Wamena Special Region of Papua    7  \n",
       "Country                                  United States of America  384  \n",
       "Region                                              North America  445  \n",
       "Circumstances   On May 13, 2019, about 1221 Alaska daylight ti...    2  \n",
       "Crash cause                                          Human factor  600  "
      ]
     },
     "execution_count": 13,
     "metadata": {},
     "output_type": "execute_result"
    }
   ],
   "source": [
    "df.describe(include = 'object').T"
   ]
  },
  {
   "cell_type": "code",
   "execution_count": 14,
   "id": "507418a5",
   "metadata": {},
   "outputs": [
    {
     "data": {
      "text/plain": [
       "<IntegerArray>\n",
       "[1990, 1982, 1959, 2006, 1993, 1976, 1981, 1986, 1970, 1968, 2008, 1969, 2007,\n",
       " 1987, 1973, 1994, 1979, 1985, 1980, 2009, 1974, 2011, 1967, 1975, 2010, 1991,\n",
       " 1978, 1956, 2005, 1989, 1934, 2012, 1957, 2000, 1992, 1983, 1988, 1977, 2001,\n",
       " 1944, 1971, 1998, 1984, 1997, 1963, 1999, 1958, 2013, 1943, 1964, 2004, 1951,\n",
       " 1930, 2003, 1995, 2002, 1972, 1996, 1952,   26, 1953, 2014,   18, 1960,   23,\n",
       " 1966, 2015, 1961, 1954, 1928,   16, 1945, 1955, 2016, 1948, 1965, 1939, 2017,\n",
       " 2018, 1942, 1962, 2020]\n",
       "Length: 82, dtype: Int64"
      ]
     },
     "execution_count": 14,
     "metadata": {},
     "output_type": "execute_result"
    }
   ],
   "source": [
    "# Invalid values column Year of manufacture\n",
    "df.YOM.unique()"
   ]
  },
  {
   "cell_type": "code",
   "execution_count": 15,
   "id": "15fea6c8",
   "metadata": {},
   "outputs": [],
   "source": [
    "# To create a filter valid_year where only values after 1900 and before 2022 will be kept\n",
    "valid_years = (df['YOM'] >= 1900) & (df['YOM'] <= 2022)\n",
    "df = df[valid_years]"
   ]
  },
  {
   "cell_type": "code",
   "execution_count": 16,
   "id": "cc3b471e",
   "metadata": {},
   "outputs": [
    {
     "data": {
      "text/plain": [
       "array(['Asia', 'Africa', 'North America', 'South America', 'Europe',\n",
       "       'Central America', 'Oceania', 'Antarctica', 'World'], dtype=object)"
      ]
     },
     "execution_count": 16,
     "metadata": {},
     "output_type": "execute_result"
    }
   ],
   "source": [
    "# This investigate unique values of Region attribute\n",
    "df.Region.unique()"
   ]
  },
  {
   "cell_type": "code",
   "execution_count": 17,
   "id": "e9720ea2",
   "metadata": {},
   "outputs": [
    {
     "name": "stdout",
     "output_type": "stream",
     "text": [
      "There are 13 observations where Region is classified as World.\n"
     ]
    }
   ],
   "source": [
    "# This investigate how many observations where Region is World\n",
    "df_region_check = df[df['Region'] == 'World']\n",
    "print(f'There are {df_region_check.shape[0]} observations where Region is classified as World.')"
   ]
  },
  {
   "cell_type": "markdown",
   "id": "3e0d093c",
   "metadata": {},
   "source": [
    "**Details regarding Region:**\n",
    "- World is a way to classify aviation incidents that do not belong to a specific continent or region. For example when it happen in internatinal airspace, or over oceans, or in locations that do not fall within the boundaries of a specific continent. \n",
    "\n",
    "- America continent is split in North America, South America and Central America to provide more detailed information regarding the region of the aviation incidents. \n"
   ]
  },
  {
   "cell_type": "code",
   "execution_count": 18,
   "id": "c944bea7",
   "metadata": {
    "scrolled": false
   },
   "outputs": [
    {
     "data": {
      "text/plain": [
       "array(['Weather', 'Human factor', 'Technical failure', 'Unknown',\n",
       "       'Other causes', 'Terrorism act, Hijacking, Sabotage'], dtype=object)"
      ]
     },
     "execution_count": 18,
     "metadata": {},
     "output_type": "execute_result"
    }
   ],
   "source": [
    "# This investigate unique values of Crash cause attribute\n",
    "df['Crash cause'].unique()"
   ]
  },
  {
   "cell_type": "code",
   "execution_count": 19,
   "id": "c7a40b87",
   "metadata": {},
   "outputs": [
    {
     "name": "stdout",
     "output_type": "stream",
     "text": [
      "There are 337 observations where Crash cause is classified as Unknown.\n"
     ]
    }
   ],
   "source": [
    "# This investigate how many observations where Crash cause is Unknown\n",
    "df_cause_check = df[df['Crash cause'] == 'Unknown']\n",
    "print(f'There are {df_cause_check.shape[0]} observations where Crash cause is classified as Unknown.')"
   ]
  },
  {
   "cell_type": "code",
   "execution_count": 20,
   "id": "5fecd992",
   "metadata": {
    "scrolled": false
   },
   "outputs": [
    {
     "data": {
      "text/plain": [
       "Flight type\n",
       "Private                                        298\n",
       "Scheduled Revenue Flight                       199\n",
       "Charter/Taxi (Non Scheduled Revenue Flight)    150\n",
       "Cargo                                          139\n",
       "Training                                        61\n",
       "Positioning                                     60\n",
       "Executive/Corporate/Business                    57\n",
       "Military                                        56\n",
       "Skydiving / Paratroopers                        40\n",
       "Ambulance                                       38\n",
       "Ferry                                           25\n",
       "Survey / Patrol / Reconnaissance                24\n",
       "Test                                            24\n",
       "Spraying (Agricultural)                         22\n",
       "Government                                      19\n",
       "Fire fighting                                   13\n",
       "Humanitarian                                    11\n",
       "Illegal (smuggling)                              9\n",
       "Geographical / Geophysical / Scientific          6\n",
       "Meteorological / Weather                         5\n",
       "Delivery                                         4\n",
       "Calibration                                      3\n",
       "Demonstration                                    3\n",
       "Aerial photography                               2\n",
       "Refuelling                                       2\n",
       "Postal (mail)                                    2\n",
       "Cinematography                                   1\n",
       "Name: count, dtype: int64"
      ]
     },
     "execution_count": 20,
     "metadata": {},
     "output_type": "execute_result"
    }
   ],
   "source": [
    "df['Flight type'].value_counts()"
   ]
  },
  {
   "cell_type": "markdown",
   "id": "eb1141f5",
   "metadata": {},
   "source": [
    "**Details regarding Flight type:**\n",
    "- Private: Private flights are those operated by individuals or organizations for non-commercial, personal, or business purposes.\n",
    "- Scheduled Revenue Flight: These are the typical passenger or cargo flights you find in commercial aviation. Passengers purchase tickets or cargo space, and the flights follow a set timetable.\n",
    "- Charter/Taxi (Non Scheduled Revenue Flight): Charter or non-scheduled revenue flights are flights that are not part of regular airline schedules. They are typically arranged on a case-by-case basis for specific customers or purposes.\n",
    "- Survey / Patrol / Reconnaissance: they are operated for purposes like aerial photography, monitoring, or data collection.\n"
   ]
  },
  {
   "cell_type": "markdown",
   "id": "c2ddf033",
   "metadata": {},
   "source": [
    "### Data Preprocessing: Encoding categorical variables"
   ]
  },
  {
   "cell_type": "code",
   "execution_count": null,
   "id": "b07b8629",
   "metadata": {},
   "outputs": [],
   "source": []
  },
  {
   "cell_type": "code",
   "execution_count": null,
   "id": "386c5e08",
   "metadata": {},
   "outputs": [],
   "source": []
  },
  {
   "cell_type": "code",
   "execution_count": null,
   "id": "e52c5c01",
   "metadata": {},
   "outputs": [],
   "source": []
  },
  {
   "cell_type": "code",
   "execution_count": null,
   "id": "d40da726",
   "metadata": {},
   "outputs": [],
   "source": []
  },
  {
   "cell_type": "code",
   "execution_count": null,
   "id": "5f09e062",
   "metadata": {},
   "outputs": [],
   "source": []
  },
  {
   "cell_type": "markdown",
   "id": "e61ebeb5",
   "metadata": {},
   "source": [
    "### Data Preprocessing: Dealing with outliers"
   ]
  },
  {
   "cell_type": "code",
   "execution_count": null,
   "id": "6a079aff",
   "metadata": {},
   "outputs": [],
   "source": []
  },
  {
   "cell_type": "code",
   "execution_count": null,
   "id": "50cf0201",
   "metadata": {},
   "outputs": [],
   "source": []
  },
  {
   "cell_type": "code",
   "execution_count": null,
   "id": "ebda879d",
   "metadata": {},
   "outputs": [],
   "source": []
  },
  {
   "cell_type": "code",
   "execution_count": null,
   "id": "2cd9fe24",
   "metadata": {},
   "outputs": [],
   "source": []
  },
  {
   "cell_type": "code",
   "execution_count": null,
   "id": "8e9faf35",
   "metadata": {},
   "outputs": [],
   "source": []
  },
  {
   "cell_type": "markdown",
   "id": "7b12141a",
   "metadata": {},
   "source": [
    "### Data Preprocessing: Scaling features\n",
    "\n",
    "- scale() Z-score scaling\n",
    "- StandardScaler() another Z-score scaling. Standardization scales the data to have a mean of 0 and a std of 1.\n",
    "- MinMaxScaler() Scaling scales the data to a specific range, typically between 0 and 1."
   ]
  },
  {
   "cell_type": "code",
   "execution_count": 24,
   "id": "bda079e8",
   "metadata": {},
   "outputs": [],
   "source": [
    "# This function will allow us to test differente scale methds and see the best result\n",
    "def scale_data(df, method='scale'):\n",
    "    if method == 'scale':\n",
    "        scaler = scale()\n",
    "    elif method == 'standardization':\n",
    "        scaler = StandardScaler()\n",
    "    elif method == 'minmax':\n",
    "        scaler = MinMaxScaler()\n",
    "    else:\n",
    "        raise ValueError(\"Invalid scaling method. Choose from 'standardization','minmax' or 'scale'.\")\n",
    "        scaler = None  \n",
    "\n",
    "    scaled_data = scaler.fit_transform(df)\n",
    "    scaled_df = pd.DataFrame(scaled_data, columns=df.columns)\n",
    "    \n",
    "    return scaled_df    "
   ]
  },
  {
   "cell_type": "code",
   "execution_count": null,
   "id": "de4383b4",
   "metadata": {},
   "outputs": [],
   "source": [
    "# Call the scale function\n",
    "#scale_data(df, method='standardization')    "
   ]
  },
  {
   "cell_type": "markdown",
   "id": "4d332c4a",
   "metadata": {},
   "source": [
    "**Done:**\n",
    "\n",
    "- 24/10/2023 EAD & Pre-processing\n",
    "- Date columns had dtype changed to datatime\n",
    "- Data must be transformed in the dataset index and ascending sorted\n",
    "- 4 Columns dropped\n",
    "- The past 10 years was selected to captured conteponrary trends and patterns (Dataset contain data up to 03-06-2022)\n",
    "- Less than 2% of missing data was dropped\n",
    "- YOM, Crew on board,Crew fatalities,Pax on board,PAX fatalities,Other fatalities,Total fatalities, must be transformed in integer\n",
    "- YOM has incorrect values like 16,18,23,26 when we are expecting 4 digit value YEAR like 2023\n",
    "- 25/10/2023 EAD & Data Normalization\n",
    "- Investigate Categorical Data\n",
    "- Data Normalization"
   ]
  }
 ],
 "metadata": {
  "kernelspec": {
   "display_name": "Python 3 (ipykernel)",
   "language": "python",
   "name": "python3"
  },
  "language_info": {
   "codemirror_mode": {
    "name": "ipython",
    "version": 3
   },
   "file_extension": ".py",
   "mimetype": "text/x-python",
   "name": "python",
   "nbconvert_exporter": "python",
   "pygments_lexer": "ipython3",
   "version": "3.11.5"
  }
 },
 "nbformat": 4,
 "nbformat_minor": 5
}
