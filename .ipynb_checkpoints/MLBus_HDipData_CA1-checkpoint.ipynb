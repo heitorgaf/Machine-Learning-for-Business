{
 "cells": [
  {
   "cell_type": "markdown",
   "id": "26d24898",
   "metadata": {},
   "source": [
    "# Module Title:\t Machine Learning for Business  \n",
    "### Assessment Title:  MLBus_HDipData_CA1\n",
    "### Lecturer Name:\t Dr. Muhammad Iqba  \n",
    "### Student Full Name & Number:\tNatalia de Oliveira Rodrigues 2023112 and Heitor Gomes de Araujo Filho 2023098"
   ]
  },
  {
   "cell_type": "markdown",
   "id": "b8674790",
   "metadata": {},
   "source": [
    "This CA will assess student attainment of the following minimum intended learning outcomes:\n",
    "\n",
    "1. Critically evaluate and implement appropriate clustering algorithms and interpret and document \n",
    "their results. (Linked to PLO 1, PLO 5)\n",
    "2. Apply modelling to time series data to facilitate business intelligence needs (Linked to PLO 1, PLO 2, \n",
    "PLO 3"
   ]
  },
  {
   "cell_type": "markdown",
   "id": "6bba4e7a",
   "metadata": {},
   "source": [
    "**Project Objective:** \n",
    "Perform time series analysis on the historical plane crash data and use clustering techniques to identify patterns and clusters of crash incidents over time. \n",
    "\n",
    "1. **Temporal Patterns Analysis:** How the frequency of plane crashes has evolved over the years. Are there any long-term trends or seasonal patterns in crash occurrences?\n",
    "\n",
    "2. **Clustering of Crash Incidents:** Identify commonalities among different incidents using clustering algorithms to group similar plane crashes based on characteristics such as crash causes, flight phases, and other relevant factors. \n",
    "\n",
    "3. **Visualization of Clustered Data:** How certain types of crashes have become more or less prevalent over the years?(identified clusters over time)\n",
    "\n",
    "4. **Anomaly Detection:** These could be extreme or unusual crash incidents that deviate from the typical patterns.\n",
    "\n",
    "5. **Forecasting:** Predict the future trend of plane crashes based on historical data using time series forecasting models. (valuable tool for aviation safety assessment)\n",
    "\n",
    "6. **Interpreting Cluster Characteristics:**  Are there specific conditions or causes that lead to certain types of accidents? Investigate the characteristics and factors that contribute for each cluster of crashes formation.\n",
    "\n",
    "7. **Evaluation of Clustering Methods:** Compare and evaluate different clustering algorithms to determine which one provides the most meaningful insights into the dataset.\n",
    "\n",
    "**Aims:** \n",
    "- Deeper understanding of the historical plane crash data, \n",
    "- Identify recurring patterns, \n",
    "- Potentially discover factors that contribute to certain types of accidents. "
   ]
  },
  {
   "cell_type": "markdown",
   "id": "b3c615fb",
   "metadata": {},
   "source": [
    "# Exploratory Data Analysis"
   ]
  },
  {
   "cell_type": "code",
   "execution_count": 32,
   "id": "b776fa73",
   "metadata": {},
   "outputs": [],
   "source": [
    "# import the libraries\n",
    "\n",
    "# Most commun libraries\n",
    "import pandas as pd\n",
    "import numpy as np\n",
    "import matplotlib.pyplot as plt\n",
    "%matplotlib inline\n",
    "import seaborn as sns\n",
    "\n",
    "# Preprocessing encoding\n",
    "from sklearn.preprocessing import LabelEncoder\n",
    "\n",
    "# Preprocessing scaling\n",
    "from sklearn.preprocessing import scale, StandardScaler, MinMaxScaler\n",
    "\n",
    "# Time series\n",
    "import plotly.express as px\n",
    "from statsmodels.tsa.seasonal import seasonal_decompose\n"
   ]
  },
  {
   "cell_type": "code",
   "execution_count": 33,
   "id": "4f0d5195",
   "metadata": {},
   "outputs": [],
   "source": [
    "import warnings\n",
    "warnings.filterwarnings('ignore')"
   ]
  },
  {
   "cell_type": "code",
   "execution_count": 34,
   "id": "c0802145",
   "metadata": {},
   "outputs": [],
   "source": [
    "df = pd.read_csv('Plane Crashes.csv')"
   ]
  },
  {
   "cell_type": "code",
   "execution_count": 35,
   "id": "b2bc40eb",
   "metadata": {},
   "outputs": [],
   "source": [
    "# To convert date to datetime\n",
    "df['Date'] = pd.to_datetime(df['Date'])"
   ]
  },
  {
   "cell_type": "code",
   "execution_count": 36,
   "id": "cdba8204",
   "metadata": {
    "scrolled": false
   },
   "outputs": [
    {
     "data": {
      "text/plain": [
       "'There are 28536 observations and 24 attributes in this dataset.'"
      ]
     },
     "metadata": {},
     "output_type": "display_data"
    },
    {
     "name": "stdout",
     "output_type": "stream",
     "text": [
      "------------------------------------------------------------------------------------------------------------------------\n"
     ]
    },
    {
     "data": {
      "text/html": [
       "<div>\n",
       "<style scoped>\n",
       "    .dataframe tbody tr th:only-of-type {\n",
       "        vertical-align: middle;\n",
       "    }\n",
       "\n",
       "    .dataframe tbody tr th {\n",
       "        vertical-align: top;\n",
       "    }\n",
       "\n",
       "    .dataframe thead th {\n",
       "        text-align: right;\n",
       "    }\n",
       "</style>\n",
       "<table border=\"1\" class=\"dataframe\">\n",
       "  <thead>\n",
       "    <tr style=\"text-align: right;\">\n",
       "      <th></th>\n",
       "      <th>Date</th>\n",
       "      <th>Time</th>\n",
       "      <th>Aircraft</th>\n",
       "      <th>Operator</th>\n",
       "      <th>Registration</th>\n",
       "      <th>Flight phase</th>\n",
       "      <th>Flight type</th>\n",
       "      <th>Survivors</th>\n",
       "      <th>Crash site</th>\n",
       "      <th>Schedule</th>\n",
       "      <th>...</th>\n",
       "      <th>Country</th>\n",
       "      <th>Region</th>\n",
       "      <th>Crew on board</th>\n",
       "      <th>Crew fatalities</th>\n",
       "      <th>Pax on board</th>\n",
       "      <th>PAX fatalities</th>\n",
       "      <th>Other fatalities</th>\n",
       "      <th>Total fatalities</th>\n",
       "      <th>Circumstances</th>\n",
       "      <th>Crash cause</th>\n",
       "    </tr>\n",
       "  </thead>\n",
       "  <tbody>\n",
       "    <tr>\n",
       "      <th>0</th>\n",
       "      <td>1918-05-02</td>\n",
       "      <td>NaN</td>\n",
       "      <td>De Havilland DH.4</td>\n",
       "      <td>United States Signal Corps - USSC</td>\n",
       "      <td>AS-32084</td>\n",
       "      <td>Takeoff (climb)</td>\n",
       "      <td>Test</td>\n",
       "      <td>No</td>\n",
       "      <td>Airport (less than 10 km from airport)</td>\n",
       "      <td>Dayton - Dayton</td>\n",
       "      <td>...</td>\n",
       "      <td>United States of America</td>\n",
       "      <td>North America</td>\n",
       "      <td>2.0</td>\n",
       "      <td>2.0</td>\n",
       "      <td>0.0</td>\n",
       "      <td>0.0</td>\n",
       "      <td>0.0</td>\n",
       "      <td>2</td>\n",
       "      <td>The single engine airplane departed Dayton-McC...</td>\n",
       "      <td>Technical failure</td>\n",
       "    </tr>\n",
       "    <tr>\n",
       "      <th>1</th>\n",
       "      <td>1918-06-08</td>\n",
       "      <td>NaN</td>\n",
       "      <td>Handley Page V/1500</td>\n",
       "      <td>Handley Page Aircraft Company Ltd</td>\n",
       "      <td>E4104</td>\n",
       "      <td>Takeoff (climb)</td>\n",
       "      <td>Test</td>\n",
       "      <td>Yes</td>\n",
       "      <td>Airport (less than 10 km from airport)</td>\n",
       "      <td>Cricklewood - Cricklewood</td>\n",
       "      <td>...</td>\n",
       "      <td>United Kingdom</td>\n",
       "      <td>Europe</td>\n",
       "      <td>6.0</td>\n",
       "      <td>5.0</td>\n",
       "      <td>0.0</td>\n",
       "      <td>0.0</td>\n",
       "      <td>0.0</td>\n",
       "      <td>5</td>\n",
       "      <td>Assembled at Cricklewood Airfield in May 1918,...</td>\n",
       "      <td>Technical failure</td>\n",
       "    </tr>\n",
       "    <tr>\n",
       "      <th>2</th>\n",
       "      <td>1918-06-11</td>\n",
       "      <td>NaN</td>\n",
       "      <td>Avro 504</td>\n",
       "      <td>Royal Air Force - RAF</td>\n",
       "      <td>A8544</td>\n",
       "      <td>Flight</td>\n",
       "      <td>Training</td>\n",
       "      <td>Yes</td>\n",
       "      <td>Plain, Valley</td>\n",
       "      <td>Abukir - Abukir</td>\n",
       "      <td>...</td>\n",
       "      <td>Egypt</td>\n",
       "      <td>Africa</td>\n",
       "      <td>2.0</td>\n",
       "      <td>1.0</td>\n",
       "      <td>0.0</td>\n",
       "      <td>0.0</td>\n",
       "      <td>0.0</td>\n",
       "      <td>1</td>\n",
       "      <td>The single engine aircraft was completing a lo...</td>\n",
       "      <td>Unknown</td>\n",
       "    </tr>\n",
       "  </tbody>\n",
       "</table>\n",
       "<p>3 rows × 24 columns</p>\n",
       "</div>"
      ],
      "text/plain": [
       "        Date Time             Aircraft                           Operator  \\\n",
       "0 1918-05-02  NaN    De Havilland DH.4  United States Signal Corps - USSC   \n",
       "1 1918-06-08  NaN  Handley Page V/1500  Handley Page Aircraft Company Ltd   \n",
       "2 1918-06-11  NaN             Avro 504              Royal Air Force - RAF   \n",
       "\n",
       "  Registration     Flight phase Flight type Survivors  \\\n",
       "0     AS-32084  Takeoff (climb)        Test        No   \n",
       "1        E4104  Takeoff (climb)        Test       Yes   \n",
       "2        A8544           Flight    Training       Yes   \n",
       "\n",
       "                               Crash site                   Schedule  ...  \\\n",
       "0  Airport (less than 10 km from airport)            Dayton - Dayton  ...   \n",
       "1  Airport (less than 10 km from airport)  Cricklewood - Cricklewood  ...   \n",
       "2                           Plain, Valley            Abukir - Abukir  ...   \n",
       "\n",
       "                    Country         Region  Crew on board Crew fatalities  \\\n",
       "0  United States of America  North America            2.0             2.0   \n",
       "1            United Kingdom         Europe            6.0             5.0   \n",
       "2                     Egypt         Africa            2.0             1.0   \n",
       "\n",
       "  Pax on board PAX fatalities  Other fatalities  Total fatalities  \\\n",
       "0          0.0            0.0               0.0                 2   \n",
       "1          0.0            0.0               0.0                 5   \n",
       "2          0.0            0.0               0.0                 1   \n",
       "\n",
       "                                       Circumstances        Crash cause  \n",
       "0  The single engine airplane departed Dayton-McC...  Technical failure  \n",
       "1  Assembled at Cricklewood Airfield in May 1918,...  Technical failure  \n",
       "2  The single engine aircraft was completing a lo...            Unknown  \n",
       "\n",
       "[3 rows x 24 columns]"
      ]
     },
     "metadata": {},
     "output_type": "display_data"
    },
    {
     "name": "stdout",
     "output_type": "stream",
     "text": [
      "------------------------------------------------------------------------------------------------------------------------\n"
     ]
    },
    {
     "data": {
      "text/html": [
       "<div>\n",
       "<style scoped>\n",
       "    .dataframe tbody tr th:only-of-type {\n",
       "        vertical-align: middle;\n",
       "    }\n",
       "\n",
       "    .dataframe tbody tr th {\n",
       "        vertical-align: top;\n",
       "    }\n",
       "\n",
       "    .dataframe thead th {\n",
       "        text-align: right;\n",
       "    }\n",
       "</style>\n",
       "<table border=\"1\" class=\"dataframe\">\n",
       "  <thead>\n",
       "    <tr style=\"text-align: right;\">\n",
       "      <th></th>\n",
       "      <th>Date</th>\n",
       "      <th>Time</th>\n",
       "      <th>Aircraft</th>\n",
       "      <th>Operator</th>\n",
       "      <th>Registration</th>\n",
       "      <th>Flight phase</th>\n",
       "      <th>Flight type</th>\n",
       "      <th>Survivors</th>\n",
       "      <th>Crash site</th>\n",
       "      <th>Schedule</th>\n",
       "      <th>...</th>\n",
       "      <th>Country</th>\n",
       "      <th>Region</th>\n",
       "      <th>Crew on board</th>\n",
       "      <th>Crew fatalities</th>\n",
       "      <th>Pax on board</th>\n",
       "      <th>PAX fatalities</th>\n",
       "      <th>Other fatalities</th>\n",
       "      <th>Total fatalities</th>\n",
       "      <th>Circumstances</th>\n",
       "      <th>Crash cause</th>\n",
       "    </tr>\n",
       "  </thead>\n",
       "  <tbody>\n",
       "    <tr>\n",
       "      <th>28533</th>\n",
       "      <td>2022-05-24</td>\n",
       "      <td>15H 40M 0S</td>\n",
       "      <td>De Havilland DHC-3 Otter</td>\n",
       "      <td>Yakutat Coastal Airlines</td>\n",
       "      <td>N703TH</td>\n",
       "      <td>Landing (descent or approach)</td>\n",
       "      <td>Charter/Taxi (Non Scheduled Revenue Flight)</td>\n",
       "      <td>Yes</td>\n",
       "      <td>Airport (less than 10 km from airport)</td>\n",
       "      <td>Yakutat – Dry Bay</td>\n",
       "      <td>...</td>\n",
       "      <td>United States of America</td>\n",
       "      <td>North America</td>\n",
       "      <td>1.0</td>\n",
       "      <td>0.0</td>\n",
       "      <td>3.0</td>\n",
       "      <td>0.0</td>\n",
       "      <td>0.0</td>\n",
       "      <td>0</td>\n",
       "      <td>The single engine airplane departed Yakutat on...</td>\n",
       "      <td>Unknown</td>\n",
       "    </tr>\n",
       "    <tr>\n",
       "      <th>28534</th>\n",
       "      <td>2022-05-29</td>\n",
       "      <td>10H 7M 0S</td>\n",
       "      <td>De Havilland DHC-6 Twin Otter</td>\n",
       "      <td>Tara Air</td>\n",
       "      <td>9N-AET</td>\n",
       "      <td>Flight</td>\n",
       "      <td>Scheduled Revenue Flight</td>\n",
       "      <td>No</td>\n",
       "      <td>Mountains</td>\n",
       "      <td>Pokhara – Jomsom</td>\n",
       "      <td>...</td>\n",
       "      <td>Nepal</td>\n",
       "      <td>Asia</td>\n",
       "      <td>3.0</td>\n",
       "      <td>3.0</td>\n",
       "      <td>19.0</td>\n",
       "      <td>19.0</td>\n",
       "      <td>0.0</td>\n",
       "      <td>22</td>\n",
       "      <td>The twin engine airplane departed Pokhara City...</td>\n",
       "      <td>Human factor</td>\n",
       "    </tr>\n",
       "    <tr>\n",
       "      <th>28535</th>\n",
       "      <td>2022-06-03</td>\n",
       "      <td>13H 46M 0S</td>\n",
       "      <td>Cessna 208B Grand Caravan</td>\n",
       "      <td>GoJump Oceanside</td>\n",
       "      <td>N7581F</td>\n",
       "      <td>Landing (descent or approach)</td>\n",
       "      <td>Skydiving / Paratroopers</td>\n",
       "      <td>Yes</td>\n",
       "      <td>Airport (less than 10 km from airport)</td>\n",
       "      <td>Oceanside - Oceanside</td>\n",
       "      <td>...</td>\n",
       "      <td>United States of America</td>\n",
       "      <td>North America</td>\n",
       "      <td>1.0</td>\n",
       "      <td>0.0</td>\n",
       "      <td>1.0</td>\n",
       "      <td>1.0</td>\n",
       "      <td>0.0</td>\n",
       "      <td>1</td>\n",
       "      <td>The single engine was completing local skydivi...</td>\n",
       "      <td>Unknown</td>\n",
       "    </tr>\n",
       "  </tbody>\n",
       "</table>\n",
       "<p>3 rows × 24 columns</p>\n",
       "</div>"
      ],
      "text/plain": [
       "            Date        Time                       Aircraft  \\\n",
       "28533 2022-05-24  15H 40M 0S       De Havilland DHC-3 Otter   \n",
       "28534 2022-05-29   10H 7M 0S  De Havilland DHC-6 Twin Otter   \n",
       "28535 2022-06-03  13H 46M 0S      Cessna 208B Grand Caravan   \n",
       "\n",
       "                       Operator Registration                   Flight phase  \\\n",
       "28533  Yakutat Coastal Airlines       N703TH  Landing (descent or approach)   \n",
       "28534                  Tara Air       9N-AET                         Flight   \n",
       "28535          GoJump Oceanside       N7581F  Landing (descent or approach)   \n",
       "\n",
       "                                       Flight type Survivors  \\\n",
       "28533  Charter/Taxi (Non Scheduled Revenue Flight)       Yes   \n",
       "28534                     Scheduled Revenue Flight        No   \n",
       "28535                     Skydiving / Paratroopers       Yes   \n",
       "\n",
       "                                   Crash site               Schedule  ...  \\\n",
       "28533  Airport (less than 10 km from airport)      Yakutat – Dry Bay  ...   \n",
       "28534                               Mountains       Pokhara – Jomsom  ...   \n",
       "28535  Airport (less than 10 km from airport)  Oceanside - Oceanside  ...   \n",
       "\n",
       "                        Country         Region  Crew on board Crew fatalities  \\\n",
       "28533  United States of America  North America            1.0             0.0   \n",
       "28534                     Nepal           Asia            3.0             3.0   \n",
       "28535  United States of America  North America            1.0             0.0   \n",
       "\n",
       "      Pax on board PAX fatalities  Other fatalities  Total fatalities  \\\n",
       "28533          3.0            0.0               0.0                 0   \n",
       "28534         19.0           19.0               0.0                22   \n",
       "28535          1.0            1.0               0.0                 1   \n",
       "\n",
       "                                           Circumstances   Crash cause  \n",
       "28533  The single engine airplane departed Yakutat on...       Unknown  \n",
       "28534  The twin engine airplane departed Pokhara City...  Human factor  \n",
       "28535  The single engine was completing local skydivi...       Unknown  \n",
       "\n",
       "[3 rows x 24 columns]"
      ]
     },
     "metadata": {},
     "output_type": "display_data"
    },
    {
     "name": "stdout",
     "output_type": "stream",
     "text": [
      "------------------------------------------------------------------------------------------------------------------------\n"
     ]
    },
    {
     "data": {
      "text/html": [
       "<div>\n",
       "<style scoped>\n",
       "    .dataframe tbody tr th:only-of-type {\n",
       "        vertical-align: middle;\n",
       "    }\n",
       "\n",
       "    .dataframe tbody tr th {\n",
       "        vertical-align: top;\n",
       "    }\n",
       "\n",
       "    .dataframe thead th {\n",
       "        text-align: right;\n",
       "    }\n",
       "</style>\n",
       "<table border=\"1\" class=\"dataframe\">\n",
       "  <thead>\n",
       "    <tr style=\"text-align: right;\">\n",
       "      <th></th>\n",
       "      <th>Date</th>\n",
       "      <th>YOM</th>\n",
       "      <th>Flight no.</th>\n",
       "      <th>Crew on board</th>\n",
       "      <th>Crew fatalities</th>\n",
       "      <th>Pax on board</th>\n",
       "      <th>PAX fatalities</th>\n",
       "      <th>Other fatalities</th>\n",
       "      <th>Total fatalities</th>\n",
       "    </tr>\n",
       "  </thead>\n",
       "  <tbody>\n",
       "    <tr>\n",
       "      <th>count</th>\n",
       "      <td>28536</td>\n",
       "      <td>23225.000000</td>\n",
       "      <td>0.0</td>\n",
       "      <td>28512.000000</td>\n",
       "      <td>28535.000000</td>\n",
       "      <td>28482.000000</td>\n",
       "      <td>28535.000000</td>\n",
       "      <td>28526.000000</td>\n",
       "      <td>28536.000000</td>\n",
       "    </tr>\n",
       "    <tr>\n",
       "      <th>mean</th>\n",
       "      <td>1968-03-30 03:54:02.724978968</td>\n",
       "      <td>1931.942519</td>\n",
       "      <td>NaN</td>\n",
       "      <td>3.052539</td>\n",
       "      <td>1.771649</td>\n",
       "      <td>7.705393</td>\n",
       "      <td>3.679727</td>\n",
       "      <td>0.109760</td>\n",
       "      <td>5.567389</td>\n",
       "    </tr>\n",
       "    <tr>\n",
       "      <th>min</th>\n",
       "      <td>1918-05-02 00:00:00</td>\n",
       "      <td>0.000000</td>\n",
       "      <td>NaN</td>\n",
       "      <td>0.000000</td>\n",
       "      <td>0.000000</td>\n",
       "      <td>0.000000</td>\n",
       "      <td>0.000000</td>\n",
       "      <td>0.000000</td>\n",
       "      <td>0.000000</td>\n",
       "    </tr>\n",
       "    <tr>\n",
       "      <th>25%</th>\n",
       "      <td>1945-05-04 18:00:00</td>\n",
       "      <td>1944.000000</td>\n",
       "      <td>NaN</td>\n",
       "      <td>1.000000</td>\n",
       "      <td>0.000000</td>\n",
       "      <td>0.000000</td>\n",
       "      <td>0.000000</td>\n",
       "      <td>0.000000</td>\n",
       "      <td>0.000000</td>\n",
       "    </tr>\n",
       "    <tr>\n",
       "      <th>50%</th>\n",
       "      <td>1967-04-29 00:00:00</td>\n",
       "      <td>1958.000000</td>\n",
       "      <td>NaN</td>\n",
       "      <td>2.000000</td>\n",
       "      <td>1.000000</td>\n",
       "      <td>0.000000</td>\n",
       "      <td>0.000000</td>\n",
       "      <td>0.000000</td>\n",
       "      <td>1.000000</td>\n",
       "    </tr>\n",
       "    <tr>\n",
       "      <th>75%</th>\n",
       "      <td>1988-09-20 00:00:00</td>\n",
       "      <td>1974.000000</td>\n",
       "      <td>NaN</td>\n",
       "      <td>4.000000</td>\n",
       "      <td>3.000000</td>\n",
       "      <td>4.000000</td>\n",
       "      <td>1.000000</td>\n",
       "      <td>0.000000</td>\n",
       "      <td>5.000000</td>\n",
       "    </tr>\n",
       "    <tr>\n",
       "      <th>max</th>\n",
       "      <td>2022-06-03 00:00:00</td>\n",
       "      <td>19567.000000</td>\n",
       "      <td>NaN</td>\n",
       "      <td>1924.000000</td>\n",
       "      <td>25.000000</td>\n",
       "      <td>509.000000</td>\n",
       "      <td>506.000000</td>\n",
       "      <td>297.000000</td>\n",
       "      <td>520.000000</td>\n",
       "    </tr>\n",
       "    <tr>\n",
       "      <th>std</th>\n",
       "      <td>NaN</td>\n",
       "      <td>285.486067</td>\n",
       "      <td>NaN</td>\n",
       "      <td>11.738151</td>\n",
       "      <td>2.520554</td>\n",
       "      <td>24.066368</td>\n",
       "      <td>15.288171</td>\n",
       "      <td>2.644296</td>\n",
       "      <td>16.713203</td>\n",
       "    </tr>\n",
       "  </tbody>\n",
       "</table>\n",
       "</div>"
      ],
      "text/plain": [
       "                                Date           YOM  Flight no.  Crew on board  \\\n",
       "count                          28536  23225.000000         0.0   28512.000000   \n",
       "mean   1968-03-30 03:54:02.724978968   1931.942519         NaN       3.052539   \n",
       "min              1918-05-02 00:00:00      0.000000         NaN       0.000000   \n",
       "25%              1945-05-04 18:00:00   1944.000000         NaN       1.000000   \n",
       "50%              1967-04-29 00:00:00   1958.000000         NaN       2.000000   \n",
       "75%              1988-09-20 00:00:00   1974.000000         NaN       4.000000   \n",
       "max              2022-06-03 00:00:00  19567.000000         NaN    1924.000000   \n",
       "std                              NaN    285.486067         NaN      11.738151   \n",
       "\n",
       "       Crew fatalities  Pax on board  PAX fatalities  Other fatalities  \\\n",
       "count     28535.000000  28482.000000    28535.000000      28526.000000   \n",
       "mean          1.771649      7.705393        3.679727          0.109760   \n",
       "min           0.000000      0.000000        0.000000          0.000000   \n",
       "25%           0.000000      0.000000        0.000000          0.000000   \n",
       "50%           1.000000      0.000000        0.000000          0.000000   \n",
       "75%           3.000000      4.000000        1.000000          0.000000   \n",
       "max          25.000000    509.000000      506.000000        297.000000   \n",
       "std           2.520554     24.066368       15.288171          2.644296   \n",
       "\n",
       "       Total fatalities  \n",
       "count      28536.000000  \n",
       "mean           5.567389  \n",
       "min            0.000000  \n",
       "25%            0.000000  \n",
       "50%            1.000000  \n",
       "75%            5.000000  \n",
       "max          520.000000  \n",
       "std           16.713203  "
      ]
     },
     "metadata": {},
     "output_type": "display_data"
    },
    {
     "name": "stdout",
     "output_type": "stream",
     "text": [
      "------------------------------------------------------------------------------------------------------------------------\n",
      "<class 'pandas.core.frame.DataFrame'>\n",
      "RangeIndex: 28536 entries, 0 to 28535\n",
      "Data columns (total 24 columns):\n",
      " #   Column            Non-Null Count  Dtype         \n",
      "---  ------            --------------  -----         \n",
      " 0   Date              28536 non-null  datetime64[ns]\n",
      " 1   Time              13949 non-null  object        \n",
      " 2   Aircraft          28535 non-null  object        \n",
      " 3   Operator          28536 non-null  object        \n",
      " 4   Registration      27721 non-null  object        \n",
      " 5   Flight phase      27898 non-null  object        \n",
      " 6   Flight type       28479 non-null  object        \n",
      " 7   Survivors         27239 non-null  object        \n",
      " 8   Crash site        28153 non-null  object        \n",
      " 9   Schedule          19590 non-null  object        \n",
      " 10  MSN               24354 non-null  object        \n",
      " 11  YOM               23225 non-null  float64       \n",
      " 12  Flight no.        0 non-null      float64       \n",
      " 13  Crash location    28524 non-null  object        \n",
      " 14  Country           28535 non-null  object        \n",
      " 15  Region            28535 non-null  object        \n",
      " 16  Crew on board     28512 non-null  float64       \n",
      " 17  Crew fatalities   28535 non-null  float64       \n",
      " 18  Pax on board      28482 non-null  float64       \n",
      " 19  PAX fatalities    28535 non-null  float64       \n",
      " 20  Other fatalities  28526 non-null  float64       \n",
      " 21  Total fatalities  28536 non-null  int64         \n",
      " 22  Circumstances     28511 non-null  object        \n",
      " 23  Crash cause       28536 non-null  object        \n",
      "dtypes: datetime64[ns](1), float64(7), int64(1), object(15)\n",
      "memory usage: 5.2+ MB\n"
     ]
    },
    {
     "data": {
      "text/plain": [
       "None"
      ]
     },
     "metadata": {},
     "output_type": "display_data"
    },
    {
     "name": "stdout",
     "output_type": "stream",
     "text": [
      "------------------------------------------------------------------------------------------------------------------------\n"
     ]
    },
    {
     "data": {
      "text/plain": [
       "Flight no.          28536\n",
       "Time                14587\n",
       "Schedule             8946\n",
       "YOM                  5311\n",
       "MSN                  4182\n",
       "Survivors            1297\n",
       "Registration          815\n",
       "Flight phase          638\n",
       "Crash site            383\n",
       "Flight type            57\n",
       "Pax on board           54\n",
       "Circumstances          25\n",
       "Crew on board          24\n",
       "Crash location         12\n",
       "Other fatalities       10\n",
       "Aircraft                1\n",
       "Country                 1\n",
       "Region                  1\n",
       "Crew fatalities         1\n",
       "PAX fatalities          1\n",
       "Total fatalities        0\n",
       "Date                    0\n",
       "Operator                0\n",
       "Crash cause             0\n",
       "dtype: int64"
      ]
     },
     "metadata": {},
     "output_type": "display_data"
    }
   ],
   "source": [
    "def glimpse(df):\n",
    "    display(f'There are {df.shape[0]} observations and {df.shape[1]} attributes in this dataset.')\n",
    "    print(\"-\" * 120)\n",
    "    display(df.head(3))\n",
    "    print(\"-\" * 120)\n",
    "    display(df.tail(3))\n",
    "    print(\"-\" * 120)\n",
    "    display(df.describe())\n",
    "    print(\"-\" * 120)\n",
    "    display(df.info())\n",
    "    print(\"-\" * 120)\n",
    "    display(df.isnull().sum().sort_values(ascending=False))\n",
    "    \n",
    "glimpse(df)"
   ]
  },
  {
   "cell_type": "markdown",
   "id": "a3d48e2d",
   "metadata": {},
   "source": [
    "# Data Preprocessing \n",
    "Data preprocessing primarily focuses on cleaning, transforming, and preparing raw data for immediate analysis or modeling. Data preprocessing involves tasks such as handling missing data, dealing with outliers, scaling features, encoding categorical variables, and ensuring data is ready for analysis or model training. \n"
   ]
  },
  {
   "cell_type": "markdown",
   "id": "5533d1cb",
   "metadata": {},
   "source": [
    "### Data Preprocessing: Preparing raw data for immediate analysis"
   ]
  },
  {
   "cell_type": "code",
   "execution_count": 37,
   "id": "527728a9",
   "metadata": {},
   "outputs": [],
   "source": [
    "# This will convert columns dtype\n",
    "columns_to_convert = ['YOM', 'Crew on board', 'Crew fatalities', 'Pax on board', 'PAX fatalities', \n",
    "                      'Other fatalities', 'Total fatalities']\n",
    "\n",
    "for column in columns_to_convert:\n",
    "    df[column] = pd.to_numeric(df[column], errors='coerce').astype('Int64')"
   ]
  },
  {
   "cell_type": "code",
   "execution_count": 38,
   "id": "041ac71b",
   "metadata": {},
   "outputs": [],
   "source": [
    "# This select recent data the past 10 Years \n",
    "# Allow us to capture contemporary trends and patterns.\n",
    "df = df[df['Date'] > '31-05-2012']"
   ]
  },
  {
   "cell_type": "code",
   "execution_count": 39,
   "id": "8b7260b2",
   "metadata": {},
   "outputs": [],
   "source": [
    "# Attach your own 'Data' index to the dataframe\n",
    "df.index = df['Date']\n",
    "\n",
    "# Drop the 'Date' column from the dataframe\n",
    "df.drop('Date', axis = 1, inplace = True)"
   ]
  },
  {
   "cell_type": "markdown",
   "id": "05b3016c",
   "metadata": {},
   "source": [
    "### Data Preprocessing: Handling missing data"
   ]
  },
  {
   "cell_type": "code",
   "execution_count": 40,
   "id": "97647aae",
   "metadata": {},
   "outputs": [],
   "source": [
    "# This removes the attributes with high missing data values, and attributes without variance(unique identifiers). \n",
    "df = df.drop(columns=[\"Flight no.\", \"Time\", 'MSN','Registration'])"
   ]
  },
  {
   "cell_type": "code",
   "execution_count": 41,
   "id": "5a9350c0",
   "metadata": {},
   "outputs": [],
   "source": [
    "# This removes all rows with any missing values - Less than 2% of the data will be dropped\n",
    "df.dropna(inplace=True) "
   ]
  },
  {
   "cell_type": "code",
   "execution_count": 42,
   "id": "62cb7b0e",
   "metadata": {},
   "outputs": [
    {
     "data": {
      "text/plain": [
       "Aircraft            0\n",
       "Region              0\n",
       "Circumstances       0\n",
       "Total fatalities    0\n",
       "Other fatalities    0\n",
       "PAX fatalities      0\n",
       "Pax on board        0\n",
       "Crew fatalities     0\n",
       "Crew on board       0\n",
       "Country             0\n",
       "Operator            0\n",
       "Crash location      0\n",
       "YOM                 0\n",
       "Schedule            0\n",
       "Crash site          0\n",
       "Survivors           0\n",
       "Flight type         0\n",
       "Flight phase        0\n",
       "Crash cause         0\n",
       "dtype: int64"
      ]
     },
     "execution_count": 42,
     "metadata": {},
     "output_type": "execute_result"
    }
   ],
   "source": [
    "df.isnull().sum().sort_values(ascending=False)"
   ]
  },
  {
   "cell_type": "markdown",
   "id": "246908e4",
   "metadata": {},
   "source": [
    "### Data Preprocessing: Investigating categorical variables"
   ]
  },
  {
   "cell_type": "code",
   "execution_count": 43,
   "id": "fed7845f",
   "metadata": {
    "scrolled": false
   },
   "outputs": [
    {
     "data": {
      "text/html": [
       "<div>\n",
       "<style scoped>\n",
       "    .dataframe tbody tr th:only-of-type {\n",
       "        vertical-align: middle;\n",
       "    }\n",
       "\n",
       "    .dataframe tbody tr th {\n",
       "        vertical-align: top;\n",
       "    }\n",
       "\n",
       "    .dataframe thead th {\n",
       "        text-align: right;\n",
       "    }\n",
       "</style>\n",
       "<table border=\"1\" class=\"dataframe\">\n",
       "  <thead>\n",
       "    <tr style=\"text-align: right;\">\n",
       "      <th></th>\n",
       "      <th>count</th>\n",
       "      <th>unique</th>\n",
       "      <th>top</th>\n",
       "      <th>freq</th>\n",
       "    </tr>\n",
       "  </thead>\n",
       "  <tbody>\n",
       "    <tr>\n",
       "      <th>Aircraft</th>\n",
       "      <td>1277</td>\n",
       "      <td>244</td>\n",
       "      <td>Cessna 208B Grand Caravan</td>\n",
       "      <td>63</td>\n",
       "    </tr>\n",
       "    <tr>\n",
       "      <th>Operator</th>\n",
       "      <td>1277</td>\n",
       "      <td>1060</td>\n",
       "      <td>Private American</td>\n",
       "      <td>14</td>\n",
       "    </tr>\n",
       "    <tr>\n",
       "      <th>Flight phase</th>\n",
       "      <td>1277</td>\n",
       "      <td>5</td>\n",
       "      <td>Landing (descent or approach)</td>\n",
       "      <td>617</td>\n",
       "    </tr>\n",
       "    <tr>\n",
       "      <th>Flight type</th>\n",
       "      <td>1277</td>\n",
       "      <td>27</td>\n",
       "      <td>Private</td>\n",
       "      <td>298</td>\n",
       "    </tr>\n",
       "    <tr>\n",
       "      <th>Survivors</th>\n",
       "      <td>1277</td>\n",
       "      <td>2</td>\n",
       "      <td>Yes</td>\n",
       "      <td>758</td>\n",
       "    </tr>\n",
       "    <tr>\n",
       "      <th>Crash site</th>\n",
       "      <td>1277</td>\n",
       "      <td>6</td>\n",
       "      <td>Airport (less than 10 km from airport)</td>\n",
       "      <td>744</td>\n",
       "    </tr>\n",
       "    <tr>\n",
       "      <th>Schedule</th>\n",
       "      <td>1277</td>\n",
       "      <td>1245</td>\n",
       "      <td>Ketchikan - Ketchikan</td>\n",
       "      <td>4</td>\n",
       "    </tr>\n",
       "    <tr>\n",
       "      <th>Crash location</th>\n",
       "      <td>1277</td>\n",
       "      <td>1139</td>\n",
       "      <td>Wamena Special Region of Papua</td>\n",
       "      <td>7</td>\n",
       "    </tr>\n",
       "    <tr>\n",
       "      <th>Country</th>\n",
       "      <td>1277</td>\n",
       "      <td>129</td>\n",
       "      <td>United States of America</td>\n",
       "      <td>384</td>\n",
       "    </tr>\n",
       "    <tr>\n",
       "      <th>Region</th>\n",
       "      <td>1277</td>\n",
       "      <td>9</td>\n",
       "      <td>North America</td>\n",
       "      <td>445</td>\n",
       "    </tr>\n",
       "    <tr>\n",
       "      <th>Circumstances</th>\n",
       "      <td>1277</td>\n",
       "      <td>1276</td>\n",
       "      <td>On May 13, 2019, about 1221 Alaska daylight ti...</td>\n",
       "      <td>2</td>\n",
       "    </tr>\n",
       "    <tr>\n",
       "      <th>Crash cause</th>\n",
       "      <td>1277</td>\n",
       "      <td>6</td>\n",
       "      <td>Human factor</td>\n",
       "      <td>600</td>\n",
       "    </tr>\n",
       "  </tbody>\n",
       "</table>\n",
       "</div>"
      ],
      "text/plain": [
       "               count unique  \\\n",
       "Aircraft        1277    244   \n",
       "Operator        1277   1060   \n",
       "Flight phase    1277      5   \n",
       "Flight type     1277     27   \n",
       "Survivors       1277      2   \n",
       "Crash site      1277      6   \n",
       "Schedule        1277   1245   \n",
       "Crash location  1277   1139   \n",
       "Country         1277    129   \n",
       "Region          1277      9   \n",
       "Circumstances   1277   1276   \n",
       "Crash cause     1277      6   \n",
       "\n",
       "                                                              top freq  \n",
       "Aircraft                                Cessna 208B Grand Caravan   63  \n",
       "Operator                                         Private American   14  \n",
       "Flight phase                        Landing (descent or approach)  617  \n",
       "Flight type                                               Private  298  \n",
       "Survivors                                                     Yes  758  \n",
       "Crash site                 Airport (less than 10 km from airport)  744  \n",
       "Schedule                                    Ketchikan - Ketchikan    4  \n",
       "Crash location                     Wamena Special Region of Papua    7  \n",
       "Country                                  United States of America  384  \n",
       "Region                                              North America  445  \n",
       "Circumstances   On May 13, 2019, about 1221 Alaska daylight ti...    2  \n",
       "Crash cause                                          Human factor  600  "
      ]
     },
     "execution_count": 43,
     "metadata": {},
     "output_type": "execute_result"
    }
   ],
   "source": [
    "df.describe(include = 'object').T"
   ]
  },
  {
   "cell_type": "code",
   "execution_count": 44,
   "id": "507418a5",
   "metadata": {
    "scrolled": true
   },
   "outputs": [
    {
     "data": {
      "text/plain": [
       "<IntegerArray>\n",
       "[1990, 1982, 1959, 2006, 1993, 1976, 1981, 1986, 1970, 1968, 2008, 1969, 2007,\n",
       " 1987, 1973, 1994, 1979, 1985, 1980, 2009, 1974, 2011, 1967, 1975, 2010, 1991,\n",
       " 1978, 1956, 2005, 1989, 1934, 2012, 1957, 2000, 1992, 1983, 1988, 1977, 2001,\n",
       " 1944, 1971, 1998, 1984, 1997, 1963, 1999, 1958, 2013, 1943, 1964, 2004, 1951,\n",
       " 1930, 2003, 1995, 2002, 1972, 1996, 1952,   26, 1953, 2014,   18, 1960,   23,\n",
       " 1966, 2015, 1961, 1954, 1928,   16, 1945, 1955, 2016, 1948, 1965, 1939, 2017,\n",
       " 2018, 1942, 1962, 2020]\n",
       "Length: 82, dtype: Int64"
      ]
     },
     "execution_count": 44,
     "metadata": {},
     "output_type": "execute_result"
    }
   ],
   "source": [
    "# Invalid values column Year of manufacture\n",
    "df.YOM.unique()"
   ]
  },
  {
   "cell_type": "code",
   "execution_count": 45,
   "id": "15fea6c8",
   "metadata": {},
   "outputs": [],
   "source": [
    "# To create a filter valid_year where only values after 1900 and before 2022 will be kept\n",
    "valid_years = (df['YOM'] >= 1900) & (df['YOM'] <= 2022)\n",
    "df = df[valid_years]"
   ]
  },
  {
   "cell_type": "code",
   "execution_count": 46,
   "id": "cc3b471e",
   "metadata": {},
   "outputs": [
    {
     "data": {
      "text/plain": [
       "array(['Asia', 'Africa', 'North America', 'South America', 'Europe',\n",
       "       'Central America', 'Oceania', 'Antarctica', 'World'], dtype=object)"
      ]
     },
     "execution_count": 46,
     "metadata": {},
     "output_type": "execute_result"
    }
   ],
   "source": [
    "# This investigate unique values of Region attribute\n",
    "df.Region.unique()"
   ]
  },
  {
   "cell_type": "code",
   "execution_count": 47,
   "id": "e9720ea2",
   "metadata": {},
   "outputs": [
    {
     "name": "stdout",
     "output_type": "stream",
     "text": [
      "There are 13 observations where Region is classified as World.\n"
     ]
    }
   ],
   "source": [
    "# This investigate how many observations where Region is World\n",
    "df_region_check = df[df['Region'] == 'World']\n",
    "print(f'There are {df_region_check.shape[0]} observations where Region is classified as World.')"
   ]
  },
  {
   "cell_type": "markdown",
   "id": "3e0d093c",
   "metadata": {},
   "source": [
    "**Region:**\n",
    "- World is a way to classify aviation incidents that do not belong to a specific continent or region. For example when it happen in internatinal airspace, or over oceans, or in locations that do not fall within the boundaries of a specific continent. \n",
    "\n",
    "- America continent is split in North America, South America and Central America to provide more detailed information regarding the region of the aviation incidents. \n"
   ]
  },
  {
   "cell_type": "code",
   "execution_count": 48,
   "id": "c944bea7",
   "metadata": {
    "scrolled": false
   },
   "outputs": [
    {
     "data": {
      "text/plain": [
       "array(['Weather', 'Human factor', 'Technical failure', 'Unknown',\n",
       "       'Other causes', 'Terrorism act, Hijacking, Sabotage'], dtype=object)"
      ]
     },
     "execution_count": 48,
     "metadata": {},
     "output_type": "execute_result"
    }
   ],
   "source": [
    "# This investigate unique values of Crash cause attribute\n",
    "df['Crash cause'].unique()"
   ]
  },
  {
   "cell_type": "code",
   "execution_count": 49,
   "id": "c7a40b87",
   "metadata": {},
   "outputs": [
    {
     "name": "stdout",
     "output_type": "stream",
     "text": [
      "There are 337 observations where Crash cause is classified as Unknown.\n"
     ]
    }
   ],
   "source": [
    "# This investigate how many observations where Crash cause is Unknown\n",
    "df_cause_check = df[df['Crash cause'] == 'Unknown']\n",
    "print(f'There are {df_cause_check.shape[0]} observations where Crash cause is classified as Unknown.')"
   ]
  },
  {
   "cell_type": "code",
   "execution_count": 50,
   "id": "5fecd992",
   "metadata": {
    "scrolled": false
   },
   "outputs": [
    {
     "data": {
      "text/plain": [
       "Flight type\n",
       "Private                                        298\n",
       "Scheduled Revenue Flight                       199\n",
       "Charter/Taxi (Non Scheduled Revenue Flight)    150\n",
       "Cargo                                          139\n",
       "Training                                        61\n",
       "Positioning                                     60\n",
       "Executive/Corporate/Business                    57\n",
       "Military                                        56\n",
       "Skydiving / Paratroopers                        40\n",
       "Ambulance                                       38\n",
       "Ferry                                           25\n",
       "Survey / Patrol / Reconnaissance                24\n",
       "Test                                            24\n",
       "Spraying (Agricultural)                         22\n",
       "Government                                      19\n",
       "Fire fighting                                   13\n",
       "Humanitarian                                    11\n",
       "Illegal (smuggling)                              9\n",
       "Geographical / Geophysical / Scientific          6\n",
       "Meteorological / Weather                         5\n",
       "Delivery                                         4\n",
       "Calibration                                      3\n",
       "Demonstration                                    3\n",
       "Aerial photography                               2\n",
       "Refuelling                                       2\n",
       "Postal (mail)                                    2\n",
       "Cinematography                                   1\n",
       "Name: count, dtype: int64"
      ]
     },
     "execution_count": 50,
     "metadata": {},
     "output_type": "execute_result"
    }
   ],
   "source": [
    "df['Flight type'].value_counts()"
   ]
  },
  {
   "cell_type": "markdown",
   "id": "eb1141f5",
   "metadata": {},
   "source": [
    "**Flight type:**\n",
    "- Private: Private flights are those operated by individuals or organizations for non-commercial, personal, or business purposes.\n",
    "- Scheduled Revenue Flight: These are the typical passenger or cargo flights you find in commercial aviation. Passengers purchase tickets or cargo space, and the flights follow a set timetable.\n",
    "- Charter/Taxi (Non Scheduled Revenue Flight): Charter or non-scheduled revenue flights are flights that are not part of regular airline schedules. They are typically arranged on a case-by-case basis for specific customers or purposes.\n",
    "- Survey / Patrol / Reconnaissance: they are operated for purposes like aerial photography, monitoring, or data collection.\n"
   ]
  },
  {
   "cell_type": "markdown",
   "id": "eae45b3f",
   "metadata": {},
   "source": [
    "### Data Preprocessing: Encoding categorical variables\n",
    "- Nominal variables = one-hot encoded (Aircraft, Operator, Flight type, Crash site, Schedule, Chash location, Country, Crash cause, Circumstances\n",
    "- Ordinal variables = label encoded (if the order is meaningful: Survivors and Flight phase)."
   ]
  },
  {
   "cell_type": "code",
   "execution_count": 51,
   "id": "8df5fd4b",
   "metadata": {},
   "outputs": [
    {
     "data": {
      "text/plain": [
       "array(['Yes', 'No'], dtype=object)"
      ]
     },
     "execution_count": 51,
     "metadata": {},
     "output_type": "execute_result"
    }
   ],
   "source": [
    "df['Survivors'].unique()"
   ]
  },
  {
   "cell_type": "code",
   "execution_count": 52,
   "id": "ac399821",
   "metadata": {},
   "outputs": [],
   "source": [
    "# Create a LabelEncoder object\n",
    "label_encoder = LabelEncoder()\n",
    "\n",
    "# Apply label encoding to the \"Survivors\" column\n",
    "df['Survivors_encoded'] = label_encoder.fit_transform(df['Survivors'])"
   ]
  },
  {
   "cell_type": "code",
   "execution_count": 53,
   "id": "00209fcd",
   "metadata": {},
   "outputs": [
    {
     "data": {
      "text/plain": [
       "array(['Landing (descent or approach)', 'Flight', 'Takeoff (climb)',\n",
       "       'Parking', 'Taxiing'], dtype=object)"
      ]
     },
     "execution_count": 53,
     "metadata": {},
     "output_type": "execute_result"
    }
   ],
   "source": [
    "df['Flight phase'].unique()"
   ]
  },
  {
   "cell_type": "code",
   "execution_count": 54,
   "id": "7bb801f2",
   "metadata": {},
   "outputs": [],
   "source": [
    "df['FlightPhase_encoded'] = label_encoder.fit_transform(df['Flight phase'])"
   ]
  },
  {
   "cell_type": "code",
   "execution_count": 55,
   "id": "d0569e09",
   "metadata": {},
   "outputs": [
    {
     "data": {
      "text/plain": [
       "array(['Asia', 'Africa', 'North America', 'South America', 'Europe',\n",
       "       'Central America', 'Oceania', 'Antarctica', 'World'], dtype=object)"
      ]
     },
     "execution_count": 55,
     "metadata": {},
     "output_type": "execute_result"
    }
   ],
   "source": [
    "df.Region.unique()"
   ]
  },
  {
   "cell_type": "code",
   "execution_count": 56,
   "id": "8874e2e9",
   "metadata": {
    "scrolled": false
   },
   "outputs": [],
   "source": [
    "# Define the custom order of continents\n",
    "custom_order = ['Asia', 'Africa', 'North America', 'South America', 'Europe','Antarctica', 'Oceania', \n",
    "                'Central America', 'World']\n",
    "\n",
    "# Apply label encoding with the custom order\n",
    "df['Region_encoded'] = df['Region'].map({region: i for i, region in enumerate(custom_order)}).astype(int)"
   ]
  },
  {
   "cell_type": "code",
   "execution_count": 57,
   "id": "1794fe7f",
   "metadata": {},
   "outputs": [
    {
     "data": {
      "text/plain": [
       "array(['Weather', 'Human factor', 'Technical failure', 'Unknown',\n",
       "       'Other causes', 'Terrorism act, Hijacking, Sabotage'], dtype=object)"
      ]
     },
     "execution_count": 57,
     "metadata": {},
     "output_type": "execute_result"
    }
   ],
   "source": [
    "df['Crash cause'].unique()"
   ]
  },
  {
   "cell_type": "code",
   "execution_count": 58,
   "id": "8d8b99b3",
   "metadata": {},
   "outputs": [
    {
     "data": {
      "text/plain": [
       "DatetimeIndex(['2012-06-01', '2012-06-02', '2012-06-03', '2012-06-03',\n",
       "               '2012-06-06', '2012-06-07', '2012-06-07', '2012-06-08',\n",
       "               '2012-06-10', '2012-06-11',\n",
       "               ...\n",
       "               '2022-05-06', '2022-05-08', '2022-05-11', '2022-05-11',\n",
       "               '2022-05-12', '2022-05-20', '2022-05-23', '2022-05-24',\n",
       "               '2022-05-29', '2022-06-03'],\n",
       "              dtype='datetime64[ns]', name='Date', length=1273, freq=None)"
      ]
     },
     "execution_count": 58,
     "metadata": {},
     "output_type": "execute_result"
    }
   ],
   "source": [
    "# Chech of duplicates\n",
    "df.index"
   ]
  },
  {
   "cell_type": "markdown",
   "id": "dcb8c1a9",
   "metadata": {},
   "source": [
    "### Data Preprocessing: Dealing with outliers"
   ]
  },
  {
   "cell_type": "code",
   "execution_count": null,
   "id": "a02294eb",
   "metadata": {},
   "outputs": [],
   "source": []
  },
  {
   "cell_type": "code",
   "execution_count": null,
   "id": "b8aec92d",
   "metadata": {},
   "outputs": [],
   "source": []
  },
  {
   "cell_type": "code",
   "execution_count": null,
   "id": "d98388b7",
   "metadata": {},
   "outputs": [],
   "source": []
  },
  {
   "cell_type": "markdown",
   "id": "8e370ac6",
   "metadata": {},
   "source": [
    "### Feature Importance:"
   ]
  },
  {
   "cell_type": "code",
   "execution_count": null,
   "id": "f639e751",
   "metadata": {},
   "outputs": [],
   "source": []
  },
  {
   "cell_type": "code",
   "execution_count": null,
   "id": "07731b53",
   "metadata": {},
   "outputs": [],
   "source": []
  },
  {
   "cell_type": "code",
   "execution_count": null,
   "id": "abf456a5",
   "metadata": {},
   "outputs": [],
   "source": []
  },
  {
   "cell_type": "markdown",
   "id": "e40ab1fd",
   "metadata": {},
   "source": [
    "### Data Preprocessing: Scaling features\n",
    "\n",
    "- scale() Z-score scaling\n",
    "- StandardScaler() another Z-score scaling. Standardization scales the data to have a mean of 0 and a std of 1.\n",
    "- MinMaxScaler() Scaling scales the data to a specific range, typically between 0 and 1."
   ]
  },
  {
   "cell_type": "code",
   "execution_count": 59,
   "id": "857f7872",
   "metadata": {},
   "outputs": [],
   "source": [
    "# This function will allow us to test differente scale methds and see the best result\n",
    "def scale_data(df, method='scale'):\n",
    "    if method == 'scale':\n",
    "        scaler = scale()\n",
    "    elif method == 'standardization':\n",
    "        scaler = StandardScaler()\n",
    "    elif method == 'minmax':\n",
    "        scaler = MinMaxScaler()\n",
    "    else:\n",
    "        raise ValueError(\"Invalid scaling method. Choose from 'standardization','minmax' or 'scale'.\")\n",
    "        scaler = None  \n",
    "\n",
    "    scaled_data = scaler.fit_transform(df)\n",
    "    scaled_df = pd.DataFrame(scaled_data, columns=df.columns)\n",
    "    \n",
    "    return scaled_df    "
   ]
  },
  {
   "cell_type": "code",
   "execution_count": 60,
   "id": "e786e821",
   "metadata": {},
   "outputs": [],
   "source": [
    "# Call the scale function\n",
    "#scale_data(df, method='standardization')    "
   ]
  },
  {
   "cell_type": "code",
   "execution_count": 61,
   "id": "a97b85d4",
   "metadata": {
    "scrolled": false
   },
   "outputs": [
    {
     "data": {
      "text/plain": [
       "'There are 1273 observations and 22 attributes in this dataset.'"
      ]
     },
     "metadata": {},
     "output_type": "display_data"
    },
    {
     "name": "stdout",
     "output_type": "stream",
     "text": [
      "------------------------------------------------------------------------------------------------------------------------\n"
     ]
    },
    {
     "data": {
      "text/html": [
       "<div>\n",
       "<style scoped>\n",
       "    .dataframe tbody tr th:only-of-type {\n",
       "        vertical-align: middle;\n",
       "    }\n",
       "\n",
       "    .dataframe tbody tr th {\n",
       "        vertical-align: top;\n",
       "    }\n",
       "\n",
       "    .dataframe thead th {\n",
       "        text-align: right;\n",
       "    }\n",
       "</style>\n",
       "<table border=\"1\" class=\"dataframe\">\n",
       "  <thead>\n",
       "    <tr style=\"text-align: right;\">\n",
       "      <th></th>\n",
       "      <th>Aircraft</th>\n",
       "      <th>Operator</th>\n",
       "      <th>Flight phase</th>\n",
       "      <th>Flight type</th>\n",
       "      <th>Survivors</th>\n",
       "      <th>Crash site</th>\n",
       "      <th>Schedule</th>\n",
       "      <th>YOM</th>\n",
       "      <th>Crash location</th>\n",
       "      <th>Country</th>\n",
       "      <th>...</th>\n",
       "      <th>Crew fatalities</th>\n",
       "      <th>Pax on board</th>\n",
       "      <th>PAX fatalities</th>\n",
       "      <th>Other fatalities</th>\n",
       "      <th>Total fatalities</th>\n",
       "      <th>Circumstances</th>\n",
       "      <th>Crash cause</th>\n",
       "      <th>Survivors_encoded</th>\n",
       "      <th>FlightPhase_encoded</th>\n",
       "      <th>Region_encoded</th>\n",
       "    </tr>\n",
       "    <tr>\n",
       "      <th>Date</th>\n",
       "      <th></th>\n",
       "      <th></th>\n",
       "      <th></th>\n",
       "      <th></th>\n",
       "      <th></th>\n",
       "      <th></th>\n",
       "      <th></th>\n",
       "      <th></th>\n",
       "      <th></th>\n",
       "      <th></th>\n",
       "      <th></th>\n",
       "      <th></th>\n",
       "      <th></th>\n",
       "      <th></th>\n",
       "      <th></th>\n",
       "      <th></th>\n",
       "      <th></th>\n",
       "      <th></th>\n",
       "      <th></th>\n",
       "      <th></th>\n",
       "      <th></th>\n",
       "    </tr>\n",
       "  </thead>\n",
       "  <tbody>\n",
       "    <tr>\n",
       "      <th>2012-06-01</th>\n",
       "      <td>Boeing 737-400</td>\n",
       "      <td>Sriwijaya Air</td>\n",
       "      <td>Landing (descent or approach)</td>\n",
       "      <td>Scheduled Revenue Flight</td>\n",
       "      <td>Yes</td>\n",
       "      <td>Airport (less than 10 km from airport)</td>\n",
       "      <td>Jakarta - Pontianak</td>\n",
       "      <td>1990</td>\n",
       "      <td>Pontianak-Supadio West Kalimantan</td>\n",
       "      <td>Indonesia</td>\n",
       "      <td>...</td>\n",
       "      <td>0</td>\n",
       "      <td>155</td>\n",
       "      <td>0</td>\n",
       "      <td>0</td>\n",
       "      <td>0</td>\n",
       "      <td>The approach to Pontianak was unstable and rea...</td>\n",
       "      <td>Weather</td>\n",
       "      <td>1</td>\n",
       "      <td>1</td>\n",
       "      <td>0</td>\n",
       "    </tr>\n",
       "    <tr>\n",
       "      <th>2012-06-02</th>\n",
       "      <td>Boeing 727-200</td>\n",
       "      <td>Allied Air</td>\n",
       "      <td>Landing (descent or approach)</td>\n",
       "      <td>Cargo</td>\n",
       "      <td>Yes</td>\n",
       "      <td>Airport (less than 10 km from airport)</td>\n",
       "      <td>Lagos - Accra</td>\n",
       "      <td>1982</td>\n",
       "      <td>Accra-Kotoka Greater Accra</td>\n",
       "      <td>Ghana</td>\n",
       "      <td>...</td>\n",
       "      <td>0</td>\n",
       "      <td>0</td>\n",
       "      <td>0</td>\n",
       "      <td>10</td>\n",
       "      <td>10</td>\n",
       "      <td>On 2nd June, 2012 at 1828hrs Allied Air Ltd Fl...</td>\n",
       "      <td>Human factor</td>\n",
       "      <td>1</td>\n",
       "      <td>1</td>\n",
       "      <td>1</td>\n",
       "    </tr>\n",
       "    <tr>\n",
       "      <th>2012-06-03</th>\n",
       "      <td>McDonnell Douglas MD-83</td>\n",
       "      <td>Dana Air</td>\n",
       "      <td>Landing (descent or approach)</td>\n",
       "      <td>Scheduled Revenue Flight</td>\n",
       "      <td>No</td>\n",
       "      <td>City</td>\n",
       "      <td>Abuja - Lagos</td>\n",
       "      <td>1990</td>\n",
       "      <td>Lagos-Murtala Muhammed Lagos</td>\n",
       "      <td>Nigeria</td>\n",
       "      <td>...</td>\n",
       "      <td>6</td>\n",
       "      <td>147</td>\n",
       "      <td>147</td>\n",
       "      <td>6</td>\n",
       "      <td>159</td>\n",
       "      <td>On 3rd June, 2012 at about 1545:00hrs, 5N-RAM,...</td>\n",
       "      <td>Technical failure</td>\n",
       "      <td>0</td>\n",
       "      <td>1</td>\n",
       "      <td>1</td>\n",
       "    </tr>\n",
       "  </tbody>\n",
       "</table>\n",
       "<p>3 rows × 22 columns</p>\n",
       "</div>"
      ],
      "text/plain": [
       "                           Aircraft       Operator  \\\n",
       "Date                                                 \n",
       "2012-06-01           Boeing 737-400  Sriwijaya Air   \n",
       "2012-06-02           Boeing 727-200     Allied Air   \n",
       "2012-06-03  McDonnell Douglas MD-83       Dana Air   \n",
       "\n",
       "                             Flight phase               Flight type Survivors  \\\n",
       "Date                                                                            \n",
       "2012-06-01  Landing (descent or approach)  Scheduled Revenue Flight       Yes   \n",
       "2012-06-02  Landing (descent or approach)                     Cargo       Yes   \n",
       "2012-06-03  Landing (descent or approach)  Scheduled Revenue Flight        No   \n",
       "\n",
       "                                        Crash site             Schedule   YOM  \\\n",
       "Date                                                                            \n",
       "2012-06-01  Airport (less than 10 km from airport)  Jakarta - Pontianak  1990   \n",
       "2012-06-02  Airport (less than 10 km from airport)        Lagos - Accra  1982   \n",
       "2012-06-03                                    City        Abuja - Lagos  1990   \n",
       "\n",
       "                               Crash location    Country  ... Crew fatalities  \\\n",
       "Date                                                      ...                   \n",
       "2012-06-01  Pontianak-Supadio West Kalimantan  Indonesia  ...               0   \n",
       "2012-06-02         Accra-Kotoka Greater Accra      Ghana  ...               0   \n",
       "2012-06-03       Lagos-Murtala Muhammed Lagos    Nigeria  ...               6   \n",
       "\n",
       "            Pax on board  PAX fatalities  Other fatalities  Total fatalities  \\\n",
       "Date                                                                           \n",
       "2012-06-01           155               0                 0                 0   \n",
       "2012-06-02             0               0                10                10   \n",
       "2012-06-03           147             147                 6               159   \n",
       "\n",
       "                                                Circumstances  \\\n",
       "Date                                                            \n",
       "2012-06-01  The approach to Pontianak was unstable and rea...   \n",
       "2012-06-02  On 2nd June, 2012 at 1828hrs Allied Air Ltd Fl...   \n",
       "2012-06-03  On 3rd June, 2012 at about 1545:00hrs, 5N-RAM,...   \n",
       "\n",
       "                  Crash cause Survivors_encoded FlightPhase_encoded  \\\n",
       "Date                                                                  \n",
       "2012-06-01            Weather                 1                   1   \n",
       "2012-06-02       Human factor                 1                   1   \n",
       "2012-06-03  Technical failure                 0                   1   \n",
       "\n",
       "            Region_encoded  \n",
       "Date                        \n",
       "2012-06-01               0  \n",
       "2012-06-02               1  \n",
       "2012-06-03               1  \n",
       "\n",
       "[3 rows x 22 columns]"
      ]
     },
     "metadata": {},
     "output_type": "display_data"
    },
    {
     "name": "stdout",
     "output_type": "stream",
     "text": [
      "------------------------------------------------------------------------------------------------------------------------\n"
     ]
    },
    {
     "data": {
      "text/html": [
       "<div>\n",
       "<style scoped>\n",
       "    .dataframe tbody tr th:only-of-type {\n",
       "        vertical-align: middle;\n",
       "    }\n",
       "\n",
       "    .dataframe tbody tr th {\n",
       "        vertical-align: top;\n",
       "    }\n",
       "\n",
       "    .dataframe thead th {\n",
       "        text-align: right;\n",
       "    }\n",
       "</style>\n",
       "<table border=\"1\" class=\"dataframe\">\n",
       "  <thead>\n",
       "    <tr style=\"text-align: right;\">\n",
       "      <th></th>\n",
       "      <th>Aircraft</th>\n",
       "      <th>Operator</th>\n",
       "      <th>Flight phase</th>\n",
       "      <th>Flight type</th>\n",
       "      <th>Survivors</th>\n",
       "      <th>Crash site</th>\n",
       "      <th>Schedule</th>\n",
       "      <th>YOM</th>\n",
       "      <th>Crash location</th>\n",
       "      <th>Country</th>\n",
       "      <th>...</th>\n",
       "      <th>Crew fatalities</th>\n",
       "      <th>Pax on board</th>\n",
       "      <th>PAX fatalities</th>\n",
       "      <th>Other fatalities</th>\n",
       "      <th>Total fatalities</th>\n",
       "      <th>Circumstances</th>\n",
       "      <th>Crash cause</th>\n",
       "      <th>Survivors_encoded</th>\n",
       "      <th>FlightPhase_encoded</th>\n",
       "      <th>Region_encoded</th>\n",
       "    </tr>\n",
       "    <tr>\n",
       "      <th>Date</th>\n",
       "      <th></th>\n",
       "      <th></th>\n",
       "      <th></th>\n",
       "      <th></th>\n",
       "      <th></th>\n",
       "      <th></th>\n",
       "      <th></th>\n",
       "      <th></th>\n",
       "      <th></th>\n",
       "      <th></th>\n",
       "      <th></th>\n",
       "      <th></th>\n",
       "      <th></th>\n",
       "      <th></th>\n",
       "      <th></th>\n",
       "      <th></th>\n",
       "      <th></th>\n",
       "      <th></th>\n",
       "      <th></th>\n",
       "      <th></th>\n",
       "      <th></th>\n",
       "    </tr>\n",
       "  </thead>\n",
       "  <tbody>\n",
       "    <tr>\n",
       "      <th>2022-05-24</th>\n",
       "      <td>De Havilland DHC-3 Otter</td>\n",
       "      <td>Yakutat Coastal Airlines</td>\n",
       "      <td>Landing (descent or approach)</td>\n",
       "      <td>Charter/Taxi (Non Scheduled Revenue Flight)</td>\n",
       "      <td>Yes</td>\n",
       "      <td>Airport (less than 10 km from airport)</td>\n",
       "      <td>Yakutat – Dry Bay</td>\n",
       "      <td>1965</td>\n",
       "      <td>Dry Bay Alaska</td>\n",
       "      <td>United States of America</td>\n",
       "      <td>...</td>\n",
       "      <td>0</td>\n",
       "      <td>3</td>\n",
       "      <td>0</td>\n",
       "      <td>0</td>\n",
       "      <td>0</td>\n",
       "      <td>The single engine airplane departed Yakutat on...</td>\n",
       "      <td>Unknown</td>\n",
       "      <td>1</td>\n",
       "      <td>1</td>\n",
       "      <td>2</td>\n",
       "    </tr>\n",
       "    <tr>\n",
       "      <th>2022-05-29</th>\n",
       "      <td>De Havilland DHC-6 Twin Otter</td>\n",
       "      <td>Tara Air</td>\n",
       "      <td>Flight</td>\n",
       "      <td>Scheduled Revenue Flight</td>\n",
       "      <td>No</td>\n",
       "      <td>Mountains</td>\n",
       "      <td>Pokhara – Jomsom</td>\n",
       "      <td>1979</td>\n",
       "      <td>Shikha Dhawalagiri</td>\n",
       "      <td>Nepal</td>\n",
       "      <td>...</td>\n",
       "      <td>3</td>\n",
       "      <td>19</td>\n",
       "      <td>19</td>\n",
       "      <td>0</td>\n",
       "      <td>22</td>\n",
       "      <td>The twin engine airplane departed Pokhara City...</td>\n",
       "      <td>Human factor</td>\n",
       "      <td>0</td>\n",
       "      <td>0</td>\n",
       "      <td>0</td>\n",
       "    </tr>\n",
       "    <tr>\n",
       "      <th>2022-06-03</th>\n",
       "      <td>Cessna 208B Grand Caravan</td>\n",
       "      <td>GoJump Oceanside</td>\n",
       "      <td>Landing (descent or approach)</td>\n",
       "      <td>Skydiving / Paratroopers</td>\n",
       "      <td>Yes</td>\n",
       "      <td>Airport (less than 10 km from airport)</td>\n",
       "      <td>Oceanside - Oceanside</td>\n",
       "      <td>1994</td>\n",
       "      <td>Oceanside California</td>\n",
       "      <td>United States of America</td>\n",
       "      <td>...</td>\n",
       "      <td>0</td>\n",
       "      <td>1</td>\n",
       "      <td>1</td>\n",
       "      <td>0</td>\n",
       "      <td>1</td>\n",
       "      <td>The single engine was completing local skydivi...</td>\n",
       "      <td>Unknown</td>\n",
       "      <td>1</td>\n",
       "      <td>1</td>\n",
       "      <td>2</td>\n",
       "    </tr>\n",
       "  </tbody>\n",
       "</table>\n",
       "<p>3 rows × 22 columns</p>\n",
       "</div>"
      ],
      "text/plain": [
       "                                 Aircraft                  Operator  \\\n",
       "Date                                                                  \n",
       "2022-05-24       De Havilland DHC-3 Otter  Yakutat Coastal Airlines   \n",
       "2022-05-29  De Havilland DHC-6 Twin Otter                  Tara Air   \n",
       "2022-06-03      Cessna 208B Grand Caravan          GoJump Oceanside   \n",
       "\n",
       "                             Flight phase  \\\n",
       "Date                                        \n",
       "2022-05-24  Landing (descent or approach)   \n",
       "2022-05-29                         Flight   \n",
       "2022-06-03  Landing (descent or approach)   \n",
       "\n",
       "                                            Flight type Survivors  \\\n",
       "Date                                                                \n",
       "2022-05-24  Charter/Taxi (Non Scheduled Revenue Flight)       Yes   \n",
       "2022-05-29                     Scheduled Revenue Flight        No   \n",
       "2022-06-03                     Skydiving / Paratroopers       Yes   \n",
       "\n",
       "                                        Crash site               Schedule  \\\n",
       "Date                                                                        \n",
       "2022-05-24  Airport (less than 10 km from airport)      Yakutat – Dry Bay   \n",
       "2022-05-29                               Mountains       Pokhara – Jomsom   \n",
       "2022-06-03  Airport (less than 10 km from airport)  Oceanside - Oceanside   \n",
       "\n",
       "             YOM        Crash location                   Country  ...  \\\n",
       "Date                                                              ...   \n",
       "2022-05-24  1965        Dry Bay Alaska  United States of America  ...   \n",
       "2022-05-29  1979    Shikha Dhawalagiri                     Nepal  ...   \n",
       "2022-06-03  1994  Oceanside California  United States of America  ...   \n",
       "\n",
       "           Crew fatalities  Pax on board  PAX fatalities  Other fatalities  \\\n",
       "Date                                                                         \n",
       "2022-05-24               0             3               0                 0   \n",
       "2022-05-29               3            19              19                 0   \n",
       "2022-06-03               0             1               1                 0   \n",
       "\n",
       "            Total fatalities  \\\n",
       "Date                           \n",
       "2022-05-24                 0   \n",
       "2022-05-29                22   \n",
       "2022-06-03                 1   \n",
       "\n",
       "                                                Circumstances   Crash cause  \\\n",
       "Date                                                                          \n",
       "2022-05-24  The single engine airplane departed Yakutat on...       Unknown   \n",
       "2022-05-29  The twin engine airplane departed Pokhara City...  Human factor   \n",
       "2022-06-03  The single engine was completing local skydivi...       Unknown   \n",
       "\n",
       "           Survivors_encoded FlightPhase_encoded  Region_encoded  \n",
       "Date                                                              \n",
       "2022-05-24                 1                   1               2  \n",
       "2022-05-29                 0                   0               0  \n",
       "2022-06-03                 1                   1               2  \n",
       "\n",
       "[3 rows x 22 columns]"
      ]
     },
     "metadata": {},
     "output_type": "display_data"
    },
    {
     "name": "stdout",
     "output_type": "stream",
     "text": [
      "------------------------------------------------------------------------------------------------------------------------\n"
     ]
    },
    {
     "data": {
      "text/html": [
       "<div>\n",
       "<style scoped>\n",
       "    .dataframe tbody tr th:only-of-type {\n",
       "        vertical-align: middle;\n",
       "    }\n",
       "\n",
       "    .dataframe tbody tr th {\n",
       "        vertical-align: top;\n",
       "    }\n",
       "\n",
       "    .dataframe thead th {\n",
       "        text-align: right;\n",
       "    }\n",
       "</style>\n",
       "<table border=\"1\" class=\"dataframe\">\n",
       "  <thead>\n",
       "    <tr style=\"text-align: right;\">\n",
       "      <th></th>\n",
       "      <th>YOM</th>\n",
       "      <th>Crew on board</th>\n",
       "      <th>Crew fatalities</th>\n",
       "      <th>Pax on board</th>\n",
       "      <th>PAX fatalities</th>\n",
       "      <th>Other fatalities</th>\n",
       "      <th>Total fatalities</th>\n",
       "      <th>Survivors_encoded</th>\n",
       "      <th>FlightPhase_encoded</th>\n",
       "      <th>Region_encoded</th>\n",
       "    </tr>\n",
       "  </thead>\n",
       "  <tbody>\n",
       "    <tr>\n",
       "      <th>count</th>\n",
       "      <td>1273.0</td>\n",
       "      <td>1273.0</td>\n",
       "      <td>1273.0</td>\n",
       "      <td>1273.0</td>\n",
       "      <td>1273.0</td>\n",
       "      <td>1273.0</td>\n",
       "      <td>1273.0</td>\n",
       "      <td>1273.000000</td>\n",
       "      <td>1273.000000</td>\n",
       "      <td>1273.000000</td>\n",
       "    </tr>\n",
       "    <tr>\n",
       "      <th>mean</th>\n",
       "      <td>1986.912804</td>\n",
       "      <td>2.534171</td>\n",
       "      <td>1.124116</td>\n",
       "      <td>13.811469</td>\n",
       "      <td>4.08641</td>\n",
       "      <td>0.131972</td>\n",
       "      <td>5.342498</td>\n",
       "      <td>0.593087</td>\n",
       "      <td>1.243519</td>\n",
       "      <td>2.271799</td>\n",
       "    </tr>\n",
       "    <tr>\n",
       "      <th>std</th>\n",
       "      <td>15.900272</td>\n",
       "      <td>2.37895</td>\n",
       "      <td>1.919854</td>\n",
       "      <td>37.145883</td>\n",
       "      <td>20.009716</td>\n",
       "      <td>1.466027</td>\n",
       "      <td>21.313744</td>\n",
       "      <td>0.491451</td>\n",
       "      <td>1.109036</td>\n",
       "      <td>1.940539</td>\n",
       "    </tr>\n",
       "    <tr>\n",
       "      <th>min</th>\n",
       "      <td>1928.0</td>\n",
       "      <td>0.0</td>\n",
       "      <td>0.0</td>\n",
       "      <td>0.0</td>\n",
       "      <td>0.0</td>\n",
       "      <td>0.0</td>\n",
       "      <td>0.0</td>\n",
       "      <td>0.000000</td>\n",
       "      <td>0.000000</td>\n",
       "      <td>0.000000</td>\n",
       "    </tr>\n",
       "    <tr>\n",
       "      <th>25%</th>\n",
       "      <td>1977.0</td>\n",
       "      <td>1.0</td>\n",
       "      <td>0.0</td>\n",
       "      <td>0.0</td>\n",
       "      <td>0.0</td>\n",
       "      <td>0.0</td>\n",
       "      <td>0.0</td>\n",
       "      <td>0.000000</td>\n",
       "      <td>0.000000</td>\n",
       "      <td>1.000000</td>\n",
       "    </tr>\n",
       "    <tr>\n",
       "      <th>50%</th>\n",
       "      <td>1985.0</td>\n",
       "      <td>2.0</td>\n",
       "      <td>1.0</td>\n",
       "      <td>2.0</td>\n",
       "      <td>0.0</td>\n",
       "      <td>0.0</td>\n",
       "      <td>1.0</td>\n",
       "      <td>1.000000</td>\n",
       "      <td>1.000000</td>\n",
       "      <td>2.000000</td>\n",
       "    </tr>\n",
       "    <tr>\n",
       "      <th>75%</th>\n",
       "      <td>1999.0</td>\n",
       "      <td>3.0</td>\n",
       "      <td>1.0</td>\n",
       "      <td>6.0</td>\n",
       "      <td>1.0</td>\n",
       "      <td>0.0</td>\n",
       "      <td>3.0</td>\n",
       "      <td>1.000000</td>\n",
       "      <td>2.000000</td>\n",
       "      <td>3.000000</td>\n",
       "    </tr>\n",
       "    <tr>\n",
       "      <th>max</th>\n",
       "      <td>2020.0</td>\n",
       "      <td>18.0</td>\n",
       "      <td>17.0</td>\n",
       "      <td>291.0</td>\n",
       "      <td>283.0</td>\n",
       "      <td>35.0</td>\n",
       "      <td>298.0</td>\n",
       "      <td>1.000000</td>\n",
       "      <td>4.000000</td>\n",
       "      <td>8.000000</td>\n",
       "    </tr>\n",
       "  </tbody>\n",
       "</table>\n",
       "</div>"
      ],
      "text/plain": [
       "               YOM  Crew on board  Crew fatalities  Pax on board  \\\n",
       "count       1273.0         1273.0           1273.0        1273.0   \n",
       "mean   1986.912804       2.534171         1.124116     13.811469   \n",
       "std      15.900272        2.37895         1.919854     37.145883   \n",
       "min         1928.0            0.0              0.0           0.0   \n",
       "25%         1977.0            1.0              0.0           0.0   \n",
       "50%         1985.0            2.0              1.0           2.0   \n",
       "75%         1999.0            3.0              1.0           6.0   \n",
       "max         2020.0           18.0             17.0         291.0   \n",
       "\n",
       "       PAX fatalities  Other fatalities  Total fatalities  Survivors_encoded  \\\n",
       "count          1273.0            1273.0            1273.0        1273.000000   \n",
       "mean          4.08641          0.131972          5.342498           0.593087   \n",
       "std         20.009716          1.466027         21.313744           0.491451   \n",
       "min               0.0               0.0               0.0           0.000000   \n",
       "25%               0.0               0.0               0.0           0.000000   \n",
       "50%               0.0               0.0               1.0           1.000000   \n",
       "75%               1.0               0.0               3.0           1.000000   \n",
       "max             283.0              35.0             298.0           1.000000   \n",
       "\n",
       "       FlightPhase_encoded  Region_encoded  \n",
       "count          1273.000000     1273.000000  \n",
       "mean              1.243519        2.271799  \n",
       "std               1.109036        1.940539  \n",
       "min               0.000000        0.000000  \n",
       "25%               0.000000        1.000000  \n",
       "50%               1.000000        2.000000  \n",
       "75%               2.000000        3.000000  \n",
       "max               4.000000        8.000000  "
      ]
     },
     "metadata": {},
     "output_type": "display_data"
    },
    {
     "name": "stdout",
     "output_type": "stream",
     "text": [
      "------------------------------------------------------------------------------------------------------------------------\n",
      "<class 'pandas.core.frame.DataFrame'>\n",
      "DatetimeIndex: 1273 entries, 2012-06-01 to 2022-06-03\n",
      "Data columns (total 22 columns):\n",
      " #   Column               Non-Null Count  Dtype \n",
      "---  ------               --------------  ----- \n",
      " 0   Aircraft             1273 non-null   object\n",
      " 1   Operator             1273 non-null   object\n",
      " 2   Flight phase         1273 non-null   object\n",
      " 3   Flight type          1273 non-null   object\n",
      " 4   Survivors            1273 non-null   object\n",
      " 5   Crash site           1273 non-null   object\n",
      " 6   Schedule             1273 non-null   object\n",
      " 7   YOM                  1273 non-null   Int64 \n",
      " 8   Crash location       1273 non-null   object\n",
      " 9   Country              1273 non-null   object\n",
      " 10  Region               1273 non-null   object\n",
      " 11  Crew on board        1273 non-null   Int64 \n",
      " 12  Crew fatalities      1273 non-null   Int64 \n",
      " 13  Pax on board         1273 non-null   Int64 \n",
      " 14  PAX fatalities       1273 non-null   Int64 \n",
      " 15  Other fatalities     1273 non-null   Int64 \n",
      " 16  Total fatalities     1273 non-null   Int64 \n",
      " 17  Circumstances        1273 non-null   object\n",
      " 18  Crash cause          1273 non-null   object\n",
      " 19  Survivors_encoded    1273 non-null   int32 \n",
      " 20  FlightPhase_encoded  1273 non-null   int32 \n",
      " 21  Region_encoded       1273 non-null   int32 \n",
      "dtypes: Int64(7), int32(3), object(12)\n",
      "memory usage: 222.5+ KB\n"
     ]
    },
    {
     "data": {
      "text/plain": [
       "None"
      ]
     },
     "metadata": {},
     "output_type": "display_data"
    },
    {
     "name": "stdout",
     "output_type": "stream",
     "text": [
      "------------------------------------------------------------------------------------------------------------------------\n"
     ]
    },
    {
     "data": {
      "text/plain": [
       "Aircraft               0\n",
       "Operator               0\n",
       "FlightPhase_encoded    0\n",
       "Survivors_encoded      0\n",
       "Crash cause            0\n",
       "Circumstances          0\n",
       "Total fatalities       0\n",
       "Other fatalities       0\n",
       "PAX fatalities         0\n",
       "Pax on board           0\n",
       "Crew fatalities        0\n",
       "Crew on board          0\n",
       "Region                 0\n",
       "Country                0\n",
       "Crash location         0\n",
       "YOM                    0\n",
       "Schedule               0\n",
       "Crash site             0\n",
       "Survivors              0\n",
       "Flight type            0\n",
       "Flight phase           0\n",
       "Region_encoded         0\n",
       "dtype: int64"
      ]
     },
     "metadata": {},
     "output_type": "display_data"
    }
   ],
   "source": [
    "glimpse(df)"
   ]
  },
  {
   "cell_type": "markdown",
   "id": "a893aed1",
   "metadata": {},
   "source": [
    "# Data Visualization"
   ]
  },
  {
   "cell_type": "code",
   "execution_count": null,
   "id": "b5c430b3",
   "metadata": {},
   "outputs": [],
   "source": []
  },
  {
   "cell_type": "code",
   "execution_count": null,
   "id": "414f940e",
   "metadata": {},
   "outputs": [],
   "source": []
  },
  {
   "cell_type": "code",
   "execution_count": null,
   "id": "c93ce3c9",
   "metadata": {},
   "outputs": [],
   "source": []
  },
  {
   "cell_type": "markdown",
   "id": "72db8ce4",
   "metadata": {},
   "source": [
    "## Temporal Patterns Analysis\n",
    "### How the frequency of plane crashes has evolved over the past 10 years. Are there any long-term trends or seasonal patterns in crash occurrences?"
   ]
  },
  {
   "cell_type": "code",
   "execution_count": 62,
   "id": "7e3a7d65",
   "metadata": {
    "scrolled": false
   },
   "outputs": [
    {
     "data": {
      "image/png": "[encoded data removed]",
      "text/plain": [
       "<Figure size 1200x600 with 1 Axes>"
      ]
     },
     "metadata": {},
     "output_type": "display_data"
    }
   ],
   "source": [
    "# Group data by year and count the number of crashes in each year\n",
    "crashes = df.resample('M').size()\n",
    "\n",
    "# Create a time series plot\n",
    "plt.figure(figsize=(12, 6))\n",
    "\n",
    "# Plot the data\n",
    "sns.lineplot(x=crashes.index, y=crashes.values, label='Crashes per Month', color='b')\n",
    "\n",
    "# Add a trendline (linear regression)\n",
    "from sklearn.linear_model import LinearRegression\n",
    "X = np.arange(len(crashes)).reshape(-1, 1)\n",
    "y = crashes.values\n",
    "reg = LinearRegression().fit(X, y)\n",
    "trendline = reg.predict(X)\n",
    "plt.plot(crashes.index, trendline, linestyle='--', label='Trendline', color='r')\n",
    "\n",
    "plt.title('Plane Crashes Over the Past 10 Years',fontsize=16)\n",
    "plt.xlabel('Year',fontsize=14)\n",
    "plt.ylabel('Number of Crashes',fontsize=14)\n",
    "\n",
    "# Add grid lines\n",
    "plt.grid(True, linestyle='--', alpha=0.4)\n",
    "\n",
    "# Provide a clear legend\n",
    "plt.legend()\n",
    "\n",
    "plt.show()\n"
   ]
  },
  {
   "cell_type": "code",
   "execution_count": 63,
   "id": "5740998e",
   "metadata": {},
   "outputs": [
    {
     "data": {
      "image/png": "[encoded data removed]",
      "text/plain": [
       "<Figure size 1200x800 with 3 Axes>"
      ]
     },
     "metadata": {},
     "output_type": "display_data"
    }
   ],
   "source": [
    "# Perform seasonal decomposition\n",
    "decomposition = seasonal_decompose(crashes, model='additive')\n",
    "\n",
    "# Create a 3x1 grid of subplots\n",
    "fig, axes = plt.subplots(3, 1, figsize=(12, 8), sharex=True)\n",
    "\n",
    "# Plot the trend component\n",
    "axes[0].plot(decomposition.trend, color='b')\n",
    "axes[0].set_title('Trend Component',fontsize=16)\n",
    "axes[0].set_ylabel('Crashes',fontsize=14)\n",
    "\n",
    "# Plot the seasonal component\n",
    "axes[1].plot(decomposition.seasonal, color='g')\n",
    "axes[1].set_title('Seasonal Component',fontsize=16)\n",
    "axes[1].set_ylabel('Crashes',fontsize=14)\n",
    "\n",
    "# Plot the residual component\n",
    "axes[2].plot(decomposition.resid, color='r')\n",
    "axes[2].set_title('Residual Component',fontsize=16)\n",
    "axes[2].set_ylabel('Crashes',fontsize=14)\n",
    "\n",
    "# Customize axis labels\n",
    "axes[2].set_xlabel('Year',fontsize=14)\n",
    "\n",
    "# Adjust the layout\n",
    "plt.tight_layout()\n",
    "\n",
    "# Show the plot\n",
    "plt.show()\n",
    "\n",
    "\n"
   ]
  },
  {
   "cell_type": "code",
   "execution_count": null,
   "id": "43c5d599",
   "metadata": {},
   "outputs": [],
   "source": []
  },
  {
   "cell_type": "code",
   "execution_count": null,
   "id": "c6005f6e",
   "metadata": {},
   "outputs": [],
   "source": []
  },
  {
   "cell_type": "markdown",
   "id": "61e408e2",
   "metadata": {},
   "source": [
    "# Time Series Analysis"
   ]
  },
  {
   "cell_type": "code",
   "execution_count": null,
   "id": "63b72343",
   "metadata": {},
   "outputs": [],
   "source": []
  },
  {
   "cell_type": "code",
   "execution_count": null,
   "id": "b68f4c8f",
   "metadata": {},
   "outputs": [],
   "source": []
  },
  {
   "cell_type": "code",
   "execution_count": null,
   "id": "9ee1b3f9",
   "metadata": {},
   "outputs": [],
   "source": []
  },
  {
   "cell_type": "code",
   "execution_count": null,
   "id": "00e226d5",
   "metadata": {},
   "outputs": [],
   "source": []
  },
  {
   "cell_type": "code",
   "execution_count": null,
   "id": "6040fe7b",
   "metadata": {},
   "outputs": [],
   "source": []
  },
  {
   "cell_type": "code",
   "execution_count": null,
   "id": "fef04fc8",
   "metadata": {},
   "outputs": [],
   "source": []
  },
  {
   "cell_type": "code",
   "execution_count": null,
   "id": "a65687ef",
   "metadata": {},
   "outputs": [],
   "source": []
  },
  {
   "cell_type": "code",
   "execution_count": null,
   "id": "4f2961b8",
   "metadata": {},
   "outputs": [],
   "source": []
  },
  {
   "cell_type": "code",
   "execution_count": null,
   "id": "ae66089c",
   "metadata": {},
   "outputs": [],
   "source": []
  },
  {
   "cell_type": "markdown",
   "id": "4d332c4a",
   "metadata": {},
   "source": [
    "**Done:**\n",
    "\n",
    "**24/10/2023**\n",
    "- Date columns had dtype changed to datatime\n",
    "- Data must be transformed in the dataset index and ascending sorted\n",
    "- 4 Columns dropped\n",
    "- The past 10 years was selected to captured conteponrary trends and patterns (Dataset contain data up to 03-06-2022)\n",
    "- Less than 2% of missing data was dropped\n",
    "- YOM, Crew on board,Crew fatalities,Pax on board,PAX fatalities,Other fatalities,Total fatalities, must be transformed in integer\n",
    "- YOM has incorrect values like 16,18,23,26 when we are expecting 4 digit value YEAR like 2023\n",
    "\n",
    "**25/10/2023**\n",
    "- Investigate Categorical Data\n",
    "- Data Normalization\n",
    "- Data Visualization: The frequency of plane crashes & Decomposition"
   ]
  },
  {
   "cell_type": "code",
   "execution_count": null,
   "id": "68ba43a6",
   "metadata": {},
   "outputs": [],
   "source": []
  }
 ],
 "metadata": {
  "kernelspec": {
   "display_name": "Python 3 (ipykernel)",
   "language": "python",
   "name": "python3"
  },
  "language_info": {
   "codemirror_mode": {
    "name": "ipython",
    "version": 3
   },
   "file_extension": ".py",
   "mimetype": "text/x-python",
   "name": "python",
   "nbconvert_exporter": "python",
   "pygments_lexer": "ipython3",
   "version": "3.11.5"
  }
 },
 "nbformat": 4,
 "nbformat_minor": 5
}
