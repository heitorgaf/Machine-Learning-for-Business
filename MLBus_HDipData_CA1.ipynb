{
 "cells": [
  {
   "cell_type": "markdown",
   "id": "26d24898",
   "metadata": {},
   "source": [
    "# Module Title:\t Machine Learning for Business  \n",
    "### Assessment Title:  MLBus_HDipData_CA1\n",
    "### Lecturer Name:\t Dr. Muhammad Iqba  \n",
    "### Student Full Name & Number:\tNatalia de Oliveira Rodrigues 2023112 and Heitor Gomes de Araujo Filho 2023098"
   ]
  },
  {
   "cell_type": "markdown",
   "id": "b8674790",
   "metadata": {},
   "source": [
    "This CA will assess student attainment of the following minimum intended learning outcomes:\n",
    "\n",
    "1. Critically evaluate and implement appropriate clustering algorithms and interpret and document \n",
    "their results. (Linked to PLO 1, PLO 5)\n",
    "2. Apply modelling to time series data to facilitate business intelligence needs (Linked to PLO 1, PLO 2, \n",
    "PLO 3"
   ]
  },
  {
   "cell_type": "markdown",
   "id": "6bba4e7a",
   "metadata": {},
   "source": [
    "**Project Objective:** \n",
    "Perform time series analysis on the historical plane crash data and use clustering techniques to identify patterns and clusters of crash incidents over time. \n",
    "\n",
    "1. **Temporal Patterns Analysis:** How the frequency of plane crashes has evolved over the years. Are there any long-term trends or seasonal patterns in crash occurrences?\n",
    "\n",
    "2. **Clustering of Crash Incidents:** Identify commonalities among different incidents using clustering algorithms to group similar plane crashes based on characteristics such as crash causes, flight phases, and other relevant factors. \n",
    "\n",
    "3. **Visualization of Clustered Data:** How certain types of crashes have become more or less prevalent over the years?(identified clusters over time)\n",
    "\n",
    "4. **Anomaly Detection:** These could be extreme or unusual crash incidents that deviate from the typical patterns.\n",
    "\n",
    "5. **Forecasting:** Predict the future trend of plane crashes based on historical data using time series forecasting models. (valuable tool for aviation safety assessment)\n",
    "\n",
    "6. **Interpreting Cluster Characteristics:**  Are there specific conditions or causes that lead to certain types of accidents? Investigate the characteristics and factors that contribute for each cluster of crashes formation.\n",
    "\n",
    "7. **Evaluation of Clustering Methods:** Compare and evaluate different clustering algorithms to determine which one provides the most meaningful insights into the dataset.\n",
    "\n",
    "**Aims:** \n",
    "- Deeper understanding of the historical plane crash data, \n",
    "- Identify recurring patterns, \n",
    "- Potentially discover factors that contribute to certain types of accidents. "
   ]
  },
  {
   "cell_type": "markdown",
   "id": "b3c615fb",
   "metadata": {},
   "source": [
    "# Exploratory Data Analysis"
   ]
  },
  {
   "cell_type": "code",
   "execution_count": 1,
   "id": "b776fa73",
   "metadata": {},
   "outputs": [],
   "source": [
    "# import the libraries\n",
    "import pandas as pd\n",
    "import numpy as np\n",
    "import matplotlib.pyplot as plt\n",
    "%matplotlib inline\n",
    "import seaborn as sns\n",
    "\n",
    "from sklearn.preprocessing import LabelEncoder\n",
    "\n",
    "from sklearn.preprocessing import scale, StandardScaler, MinMaxScaler"
   ]
  },
  {
   "cell_type": "code",
   "execution_count": 2,
   "id": "4f0d5195",
   "metadata": {},
   "outputs": [],
   "source": [
    "import warnings\n",
    "warnings.filterwarnings('ignore')"
   ]
  },
  {
   "cell_type": "code",
   "execution_count": null,
   "id": "c0802145",
   "metadata": {},
   "outputs": [],
   "source": [
    "df = pd.read_csv('Plane Crashes.csv')"
   ]
  },
  {
   "cell_type": "code",
   "execution_count": null,
   "id": "b2bc40eb",
   "metadata": {},
   "outputs": [],
   "source": [
    "# To convert date to datetime\n",
    "df['Date'] = pd.to_datetime(df['Date'])"
   ]
  },
  {
   "cell_type": "code",
   "execution_count": null,
   "id": "cdba8204",
   "metadata": {
    "scrolled": false
   },
   "outputs": [],
   "source": [
    "def glimpse(df):\n",
    "    display(f'There are {df.shape[0]} observations and {df.shape[1]} attributes in this dataset.')\n",
    "    print(\"-\" * 120)\n",
    "    display(df.head(3))\n",
    "    print(\"-\" * 120)\n",
    "    display(df.tail(3))\n",
    "    print(\"-\" * 120)\n",
    "    display(df.describe())\n",
    "    print(\"-\" * 120)\n",
    "    display(df.info())\n",
    "    print(\"-\" * 120)\n",
    "    display(df.isnull().sum().sort_values(ascending=False))\n",
    "    \n",
    "glimpse(df)"
   ]
  },
  {
   "cell_type": "markdown",
   "id": "a3d48e2d",
   "metadata": {},
   "source": [
    "# Data Preprocessing \n",
    "Data preprocessing primarily focuses on cleaning, transforming, and preparing raw data for immediate analysis or modeling. Data preprocessing involves tasks such as handling missing data, dealing with outliers, scaling features, encoding categorical variables, and ensuring data is ready for analysis or model training. \n"
   ]
  },
  {
   "cell_type": "markdown",
   "id": "b07f6fec",
   "metadata": {},
   "source": [
    "### Data Preprocessing: Preparing raw data for immediate analysis"
   ]
  },
  {
   "cell_type": "code",
   "execution_count": null,
   "id": "527728a9",
   "metadata": {},
   "outputs": [],
   "source": [
    "# This will convert columns dtype\n",
    "columns_to_convert = ['YOM', 'Crew on board', 'Crew fatalities', 'Pax on board', 'PAX fatalities', \n",
    "                      'Other fatalities', 'Total fatalities']\n",
    "\n",
    "for column in columns_to_convert:\n",
    "    df[column] = pd.to_numeric(df[column], errors='coerce').astype('Int64')"
   ]
  },
  {
   "cell_type": "code",
   "execution_count": null,
   "id": "041ac71b",
   "metadata": {},
   "outputs": [],
   "source": [
    "# This select recent data the past 10 Years \n",
    "# Allow us to capture contemporary trends and patterns.\n",
    "df = df[df['Date'] > '31-05-2012']"
   ]
  },
  {
   "cell_type": "code",
   "execution_count": null,
   "id": "8b7260b2",
   "metadata": {},
   "outputs": [],
   "source": [
    "# Attach your own 'Data' index to the dataframe\n",
    "df.index = df['Date']\n",
    "\n",
    "# Drop the 'Date' column from the dataframe\n",
    "df.drop('Date', axis = 1, inplace = True)"
   ]
  },
  {
   "cell_type": "markdown",
   "id": "37484cfc",
   "metadata": {},
   "source": [
    "### Data Preprocessing: Handling missing data"
   ]
  },
  {
   "cell_type": "code",
   "execution_count": null,
   "id": "ff155239",
   "metadata": {},
   "outputs": [],
   "source": [
    "# This removes the attributes with high missing data values, and attributes without variance(unique identifiers). \n",
    "df = df.drop(columns=[\"Flight no.\", \"Time\", 'MSN','Registration'])"
   ]
  },
  {
   "cell_type": "code",
   "execution_count": null,
   "id": "5a9350c0",
   "metadata": {},
   "outputs": [],
   "source": [
    "# This removes all rows with any missing values - Less than 2% of the data will be dropped\n",
    "df.dropna(inplace=True) "
   ]
  },
  {
   "cell_type": "code",
   "execution_count": null,
   "id": "62cb7b0e",
   "metadata": {},
   "outputs": [],
   "source": [
    "df.isnull().sum().sort_values(ascending=False)"
   ]
  },
  {
   "cell_type": "markdown",
   "id": "4645b7cf",
   "metadata": {},
   "source": [
    "### Data Preprocessing: Investigating categorical variables"
   ]
  },
  {
   "cell_type": "code",
   "execution_count": null,
   "id": "fed7845f",
   "metadata": {
    "scrolled": false
   },
   "outputs": [],
   "source": [
    "df.describe(include = 'object').T"
   ]
  },
  {
   "cell_type": "code",
   "execution_count": null,
   "id": "507418a5",
   "metadata": {
    "scrolled": true
   },
   "outputs": [],
   "source": [
    "# Invalid values column Year of manufacture\n",
    "df.YOM.unique()"
   ]
  },
  {
   "cell_type": "code",
   "execution_count": null,
   "id": "15fea6c8",
   "metadata": {},
   "outputs": [],
   "source": [
    "# To create a filter valid_year where only values after 1900 and before 2022 will be kept\n",
    "valid_years = (df['YOM'] >= 1900) & (df['YOM'] <= 2022)\n",
    "df = df[valid_years]"
   ]
  },
  {
   "cell_type": "code",
   "execution_count": null,
   "id": "cc3b471e",
   "metadata": {},
   "outputs": [],
   "source": [
    "# This investigate unique values of Region attribute\n",
    "df.Region.unique()"
   ]
  },
  {
   "cell_type": "code",
   "execution_count": null,
   "id": "e9720ea2",
   "metadata": {},
   "outputs": [],
   "source": [
    "# This investigate how many observations where Region is World\n",
    "df_region_check = df[df['Region'] == 'World']\n",
    "print(f'There are {df_region_check.shape[0]} observations where Region is classified as World.')"
   ]
  },
  {
   "cell_type": "markdown",
   "id": "3e0d093c",
   "metadata": {},
   "source": [
    "**Region:**\n",
    "- World is a way to classify aviation incidents that do not belong to a specific continent or region. For example when it happen in internatinal airspace, or over oceans, or in locations that do not fall within the boundaries of a specific continent. \n",
    "\n",
    "- America continent is split in North America, South America and Central America to provide more detailed information regarding the region of the aviation incidents. \n"
   ]
  },
  {
   "cell_type": "code",
   "execution_count": null,
   "id": "c944bea7",
   "metadata": {
    "scrolled": false
   },
   "outputs": [],
   "source": [
    "# This investigate unique values of Crash cause attribute\n",
    "df['Crash cause'].unique()"
   ]
  },
  {
   "cell_type": "code",
   "execution_count": null,
   "id": "c7a40b87",
   "metadata": {},
   "outputs": [],
   "source": [
    "# This investigate how many observations where Crash cause is Unknown\n",
    "df_cause_check = df[df['Crash cause'] == 'Unknown']\n",
    "print(f'There are {df_cause_check.shape[0]} observations where Crash cause is classified as Unknown.')"
   ]
  },
  {
   "cell_type": "code",
   "execution_count": null,
   "id": "5fecd992",
   "metadata": {
    "scrolled": false
   },
   "outputs": [],
   "source": [
    "df['Flight type'].value_counts()"
   ]
  },
  {
   "cell_type": "markdown",
   "id": "eb1141f5",
   "metadata": {},
   "source": [
    "**Flight type:**\n",
    "- Private: Private flights are those operated by individuals or organizations for non-commercial, personal, or business purposes.\n",
    "- Scheduled Revenue Flight: These are the typical passenger or cargo flights you find in commercial aviation. Passengers purchase tickets or cargo space, and the flights follow a set timetable.\n",
    "- Charter/Taxi (Non Scheduled Revenue Flight): Charter or non-scheduled revenue flights are flights that are not part of regular airline schedules. They are typically arranged on a case-by-case basis for specific customers or purposes.\n",
    "- Survey / Patrol / Reconnaissance: they are operated for purposes like aerial photography, monitoring, or data collection.\n"
   ]
  },
  {
   "cell_type": "markdown",
   "id": "a5c9f3cf",
   "metadata": {},
   "source": [
    "### Data Preprocessing: Encoding categorical variables\n",
    "- Nominal variables = one-hot encoded (Aircraft, Operator, Flight type, Crash site, Schedule, Chash location, Country, Crash cause, Circumstances\n",
    "- Ordinal variables = label encoded (if the order is meaningful: Survivors and Flight phase)."
   ]
  },
  {
   "cell_type": "code",
   "execution_count": null,
   "id": "6448e129",
   "metadata": {},
   "outputs": [],
   "source": [
    "df['Survivors'].unique()"
   ]
  },
  {
   "cell_type": "code",
   "execution_count": null,
   "id": "4f7d0207",
   "metadata": {},
   "outputs": [],
   "source": [
    "# Create a LabelEncoder object\n",
    "label_encoder = LabelEncoder()\n",
    "\n",
    "# Apply label encoding to the \"Survivors\" column\n",
    "df['Survivors_encoded'] = label_encoder.fit_transform(df['Survivors'])"
   ]
  },
  {
   "cell_type": "code",
   "execution_count": null,
   "id": "4da8690f",
   "metadata": {},
   "outputs": [],
   "source": [
    "df['Flight phase'].unique()"
   ]
  },
  {
   "cell_type": "code",
   "execution_count": null,
   "id": "0e22d76c",
   "metadata": {},
   "outputs": [],
   "source": [
    "df['FlightPhase_encoded'] = label_encoder.fit_transform(df['Flight phase'])"
   ]
  },
  {
   "cell_type": "code",
   "execution_count": null,
   "id": "5545a3c3",
   "metadata": {},
   "outputs": [],
   "source": [
    "df.Region.unique()"
   ]
  },
  {
   "cell_type": "code",
   "execution_count": null,
   "id": "05e32647",
   "metadata": {
    "scrolled": false
   },
   "outputs": [],
   "source": [
    "# Define the custom order of continents\n",
    "custom_order = ['Asia', 'Africa', 'North America', 'South America', 'Europe','Antarctica', 'Oceania', \n",
    "                'Central America', 'World']\n",
    "\n",
    "# Apply label encoding with the custom order\n",
    "df['Region_encoded'] = df['Region'].map({region: i for i, region in enumerate(custom_order)}).astype(int)"
   ]
  },
  {
   "cell_type": "markdown",
   "id": "f6008da9",
   "metadata": {},
   "source": [
    "### Data Preprocessing: Dealing with outliers"
   ]
  },
  {
   "cell_type": "code",
   "execution_count": null,
   "id": "3a326ab5",
   "metadata": {},
   "outputs": [],
   "source": []
  },
  {
   "cell_type": "code",
   "execution_count": null,
   "id": "387498ad",
   "metadata": {},
   "outputs": [],
   "source": []
  },
  {
   "cell_type": "code",
   "execution_count": null,
   "id": "7aac33c5",
   "metadata": {},
   "outputs": [],
   "source": []
  },
  {
   "cell_type": "markdown",
   "id": "41c8eb0b",
   "metadata": {},
   "source": [
    "### Feature Importance:"
   ]
  },
  {
   "cell_type": "code",
   "execution_count": null,
   "id": "86b3de01",
   "metadata": {},
   "outputs": [],
   "source": []
  },
  {
   "cell_type": "code",
   "execution_count": null,
   "id": "0aca643a",
   "metadata": {},
   "outputs": [],
   "source": []
  },
  {
   "cell_type": "code",
   "execution_count": null,
   "id": "8efd2392",
   "metadata": {},
   "outputs": [],
   "source": []
  },
  {
   "cell_type": "markdown",
   "id": "4e0a77aa",
   "metadata": {},
   "source": [
    "### Data Preprocessing: Scaling features\n",
    "\n",
    "- scale() Z-score scaling\n",
    "- StandardScaler() another Z-score scaling. Standardization scales the data to have a mean of 0 and a std of 1.\n",
    "- MinMaxScaler() Scaling scales the data to a specific range, typically between 0 and 1."
   ]
  },
  {
   "cell_type": "code",
   "execution_count": null,
   "id": "6a39b945",
   "metadata": {},
   "outputs": [],
   "source": [
    "# This function will allow us to test differente scale methds and see the best result\n",
    "def scale_data(df, method='scale'):\n",
    "    if method == 'scale':\n",
    "        scaler = scale()\n",
    "    elif method == 'standardization':\n",
    "        scaler = StandardScaler()\n",
    "    elif method == 'minmax':\n",
    "        scaler = MinMaxScaler()\n",
    "    else:\n",
    "        raise ValueError(\"Invalid scaling method. Choose from 'standardization','minmax' or 'scale'.\")\n",
    "        scaler = None  \n",
    "\n",
    "    scaled_data = scaler.fit_transform(df)\n",
    "    scaled_df = pd.DataFrame(scaled_data, columns=df.columns)\n",
    "    \n",
    "    return scaled_df    "
   ]
  },
  {
   "cell_type": "code",
   "execution_count": null,
   "id": "a800b5db",
   "metadata": {},
   "outputs": [],
   "source": [
    "# Call the scale function\n",
    "#scale_data(df, method='standardization')    "
   ]
  },
  {
   "cell_type": "markdown",
   "id": "4d332c4a",
   "metadata": {},
   "source": [
    "**Done:**\n",
    "\n",
    "- 24/10/2023 EAD & Pre-processing\n",
    "- Date columns had dtype changed to datatime\n",
    "- Data must be transformed in the dataset index and ascending sorted\n",
    "- 4 Columns dropped\n",
    "- The past 10 years was selected to captured conteponrary trends and patterns (Dataset contain data up to 03-06-2022)\n",
    "- Less than 2% of missing data was dropped\n",
    "- YOM, Crew on board,Crew fatalities,Pax on board,PAX fatalities,Other fatalities,Total fatalities, must be transformed in integer\n",
    "- YOM has incorrect values like 16,18,23,26 when we are expecting 4 digit value YEAR like 2023\n",
    "- 25/10/2023 EAD & Data Normalization\n",
    "- Investigate Categorical Data\n",
    "- Data Normalization"
   ]
  }
 ],
 "metadata": {
  "kernelspec": {
   "display_name": "Python 3 (ipykernel)",
   "language": "python",
   "name": "python3"
  },
  "language_info": {
   "codemirror_mode": {
    "name": "ipython",
    "version": 3
   },
   "file_extension": ".py",
   "mimetype": "text/x-python",
   "name": "python",
   "nbconvert_exporter": "python",
   "pygments_lexer": "ipython3",
   "version": "3.11.5"
  }
 },
 "nbformat": 4,
 "nbformat_minor": 5
}
